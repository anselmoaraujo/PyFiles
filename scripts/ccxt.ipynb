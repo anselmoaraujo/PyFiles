{
 "cells": [
  {
   "cell_type": "code",
   "execution_count": 2,
   "metadata": {},
   "outputs": [],
   "source": [
    "import ccxt\n",
    "import pandas as pd\n",
    "#import ace_tools as tools"
   ]
  },
  {
   "cell_type": "code",
   "execution_count": 3,
   "metadata": {},
   "outputs": [
    {
     "name": "stdout",
     "output_type": "stream",
     "text": [
      "Could not fetch data from idex: idex GET https://api-matic.idex.io/v1/assets\n",
      "Arbitrage Opportunities:\n",
      "   buy_from   sell_to  buy_price  sell_price   profit\n",
      "0   binance  bitfinex    57785.1     57984.0  83.1309\n",
      "1  coinbase  bitfinex    57823.4     57984.0  44.7926\n",
      "2    kraken  bitfinex    57814.0     57984.0  54.2020\n"
     ]
    }
   ],
   "source": [
    "# Initialize the exchanges\n",
    "exchanges = {\n",
    "    'binance': ccxt.binance(),\n",
    "    'coinbase': ccxt.coinbase(),\n",
    "    'kraken': ccxt.kraken(),\n",
    "    'bitfinex': ccxt.bitfinex(),\n",
    "    'idex': ccxt.idex()\n",
    "}\n",
    "\n",
    "# Define the cryptocurrency symbol\n",
    "crypto_symbol = 'BTC/USD'\n",
    "\n",
    "# Fetch the current prices from each exchange\n",
    "def fetch_prices(exchanges, symbol):\n",
    "    prices = {}\n",
    "    for name, exchange in exchanges.items():\n",
    "        try:\n",
    "            ticker = exchange.fetch_ticker(symbol)\n",
    "            prices[name] = ticker['last']\n",
    "        except Exception as e:\n",
    "            print(f\"Could not fetch data from {name}: {e}\")\n",
    "    return prices\n",
    "\n",
    "# Identify arbitrage opportunities\n",
    "def find_arbitrage_opportunities(prices, fee_percentage=0.1):\n",
    "    opportunities = []\n",
    "    exchanges = list(prices.keys())\n",
    "    for i in range(len(exchanges)):\n",
    "        for j in range(i + 1, len(exchanges)):\n",
    "            exchange1 = exchanges[i]\n",
    "            exchange2 = exchanges[j]\n",
    "            price1 = prices[exchange1]\n",
    "            price2 = prices[exchange2]\n",
    "            fee = fee_percentage / 100\n",
    "            if price1 * (1 + fee) < price2 * (1 - fee):\n",
    "                profit = price2 * (1 - fee) - price1 * (1 + fee)\n",
    "                opportunities.append({\n",
    "                    'buy_from': exchange1,\n",
    "                    'sell_to': exchange2,\n",
    "                    'buy_price': price1,\n",
    "                    'sell_price': price2,\n",
    "                    'profit': profit\n",
    "                })\n",
    "            elif price2 * (1 + fee) < price1 * (1 - fee):\n",
    "                profit = price1 * (1 - fee) - price2 * (1 + fee)\n",
    "                opportunities.append({\n",
    "                    'buy_from': exchange2,\n",
    "                    'sell_to': exchange1,\n",
    "                    'buy_price': price2,\n",
    "                    'sell_price': price1,\n",
    "                    'profit': profit\n",
    "                })\n",
    "    return opportunities\n",
    "\n",
    "# Fetch prices and find arbitrage opportunities\n",
    "prices = fetch_prices(exchanges, crypto_symbol)\n",
    "opportunities = find_arbitrage_opportunities(prices)\n",
    "\n",
    "# Convert to DataFrame for better visualization\n",
    "df_opportunities = pd.DataFrame(opportunities)\n",
    "#tools.display_dataframe_to_user(name=\"Arbitrage Opportunities\", dataframe=df_opportunities)\n",
    "df_opportunities.head()\n",
    "# Print results\n",
    "print(\"Arbitrage Opportunities:\")\n",
    "print(df_opportunities)"
   ]
  }
 ],
 "metadata": {
  "kernelspec": {
   "display_name": ".venv",
   "language": "python",
   "name": "python3"
  },
  "language_info": {
   "codemirror_mode": {
    "name": "ipython",
    "version": 3
   },
   "file_extension": ".py",
   "mimetype": "text/x-python",
   "name": "python",
   "nbconvert_exporter": "python",
   "pygments_lexer": "ipython3",
   "version": "3.12.0"
  }
 },
 "nbformat": 4,
 "nbformat_minor": 2
}
