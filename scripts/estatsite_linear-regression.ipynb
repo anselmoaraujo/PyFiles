{
 "cells": [
  {
   "cell_type": "code",
   "execution_count": 4,
   "metadata": {},
   "outputs": [
    {
     "name": "stdout",
     "output_type": "stream",
     "text": [
      "linear model coefficient (w): [44.31238628]\n",
      "linear model intercept (b): 148.957\n",
      "R-squared score (training): 0.649\n",
      "R-squared score (test): 0.631\n"
     ]
    }
   ],
   "source": [
    "# From http://estatsite.com.br/2019/11/13/regressao-linear-no-python/\n",
    "\n",
    "# Import Libraries\n",
    "from sklearn.model_selection import train_test_split\n",
    "from sklearn.linear_model import LinearRegression\n",
    "from sklearn.datasets import make_regression\n",
    "\n",
    "# Create 100 sample datasets\n",
    "X_R1, y_R1 = make_regression(n_samples=100, n_features=1,\n",
    "                            n_informative=1, bias=150.0,\n",
    "                            noise=30, random_state=0)\n",
    "\n",
    "# Split train and test\n",
    "X_train, X_test, y_train, y_test = train_test_split(X_R1, y_R1, \n",
    "                                                   random_state=1)\n",
    "\n",
    "# Run Model\n",
    "linReg = LinearRegression().fit(X_train, y_train)\n",
    "\n",
    "# Present Results\n",
    "print('linear model coefficient (w): {}'.format(linReg.coef_))\n",
    "print('linear model intercept (b): {:.3f}'.format(linReg.intercept_))\n",
    "print('R-squared score (training): {:.3f}'.format(linReg.score(X_train, y_train)))\n",
    "print('R-squared score (test): {:.3f}'.format(linReg.score(X_test, y_test)))"
   ]
  },
  {
   "cell_type": "code",
   "execution_count": 7,
   "metadata": {},
   "outputs": [
    {
     "data": {
      "image/png": "[encoded data removed]",
      "text/plain": [
       "<Figure size 432x432 with 1 Axes>"
      ]
     },
     "metadata": {
      "needs_background": "light"
     },
     "output_type": "display_data"
    }
   ],
   "source": [
    "# Import Libraries\n",
    "import matplotlib.pyplot as plt\n",
    "\n",
    "# Define chart size\n",
    "plt.figure(figsize=(6, 6))\n",
    "\n",
    "# Plot chart\n",
    "plt.scatter(X_R1, y_R1, marker='o', s=50)\n",
    "plt.plot(X_R1, linReg.coef_ * X_R1 + linReg.intercept_, 'r-')\n",
    "\n",
    "# Main Title\n",
    "plt.title('Linear Regression')\n",
    "\n",
    "# x Label\n",
    "plt.xlabel('Independent Variable (x)')\n",
    "\n",
    "# y label\n",
    "plt.ylabel('Dependent Variable (y)')\n",
    "\n",
    "# Remove right and upper rows\n",
    "ax = plt.gca()\n",
    "ax.spines['right'].set_visible(False)\n",
    "ax.spines['top'].set_visible(False)\n",
    "\n",
    "# Ticks Position Definition\n",
    "ax.yaxis.set_ticks_position('left')\n",
    "ax.xaxis.set_ticks_position('bottom')\n",
    "\n",
    "plt.show()"
   ]
  },
  {
   "cell_type": "code",
   "execution_count": 9,
   "metadata": {},
   "outputs": [
    {
     "name": "stdout",
     "output_type": "stream",
     "text": [
      "                            OLS Regression Results                            \n",
      "==============================================================================\n",
      "Dep. Variable:                      y   R-squared:                       0.649\n",
      "Model:                            OLS   Adj. R-squared:                  0.644\n",
      "Method:                 Least Squares   F-statistic:                     135.2\n",
      "Date:                Mon, 24 Feb 2020   Prob (F-statistic):           2.82e-18\n",
      "Time:                        17:04:09   Log-Likelihood:                -369.57\n",
      "No. Observations:                  75   AIC:                             743.1\n",
      "Df Residuals:                      73   BIC:                             747.8\n",
      "Df Model:                           1                                         \n",
      "Covariance Type:            nonrobust                                         \n",
      "==============================================================================\n",
      "                 coef    std err          t      P>|t|      [0.025      0.975]\n",
      "------------------------------------------------------------------------------\n",
      "const        148.9573      3.911     38.091      0.000     141.163     156.751\n",
      "x1            44.3124      3.812     11.626      0.000      36.716      51.909\n",
      "==============================================================================\n",
      "Omnibus:                        3.395   Durbin-Watson:                   1.984\n",
      "Prob(Omnibus):                  0.183   Jarque-Bera (JB):                1.976\n",
      "Skew:                          -0.132   Prob(JB):                        0.372\n",
      "Kurtosis:                       2.250   Cond. No.                         1.04\n",
      "==============================================================================\n",
      "\n",
      "Warnings:\n",
      "[1] Standard Errors assume that the covariance matrix of the errors is correctly specified.\n"
     ]
    }
   ],
   "source": [
    "# Import Libraries\n",
    "import pandas as pd\n",
    "import numpy as np\n",
    "from sklearn import datasets, linear_model\n",
    "from sklearn.linear_model import LinearRegression\n",
    "import statsmodels.api as sm\n",
    "from scipy import stats\n",
    "\n",
    "X2 = sm.add_constant(X_train)\n",
    "est = sm.OLS(y_train, X2)\n",
    "est2 = est.fit()\n",
    "print(est2.summary())"
   ]
  },
  {
   "cell_type": "code",
   "execution_count": null,
   "metadata": {},
   "outputs": [],
   "source": []
  }
 ],
 "metadata": {
  "kernelspec": {
   "display_name": "Python 3",
   "language": "python",
   "name": "python3"
  },
  "language_info": {
   "codemirror_mode": {
    "name": "ipython",
    "version": 3
   },
   "file_extension": ".py",
   "mimetype": "text/x-python",
   "name": "python",
   "nbconvert_exporter": "python",
   "pygments_lexer": "ipython3",
   "version": "3.7.4"
  }
 },
 "nbformat": 4,
 "nbformat_minor": 2
}
