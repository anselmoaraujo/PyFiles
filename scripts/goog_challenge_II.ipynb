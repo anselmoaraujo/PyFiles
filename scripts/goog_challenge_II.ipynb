{
 "cells": [
  {
   "cell_type": "code",
   "execution_count": 59,
   "metadata": {},
   "outputs": [],
   "source": [
    "def numero_ident(x, y):\n",
    "    x = int(x)\n",
    "    y = int(y)\n",
    "    num = 0\n",
    "    if (x == 1 and y == 1):\n",
    "        return 1\n",
    "    if (y == 1):\n",
    "        num  = x**2 - (x**2 - x)/2\n",
    "    elif (x == 1):  \n",
    "        num = y**2 - (y**2 - y)/2 - (y-x)\n",
    "    elif (x == y):\n",
    "        diagone = x + y\n",
    "        x = diagone - 1\n",
    "        num  = x**2 - (x**2 - x)/2 - ((diagone)/2 - 1)\n",
    "    else:\n",
    "        diagone = x + y\n",
    "        x = diagone - 1\n",
    "        num  = x**2 - (x**2 - x)/2 - (y - 1)\n",
    "    return str(int(num))"
   ]
  },
  {
   "cell_type": "code",
   "execution_count": 60,
   "metadata": {},
   "outputs": [
    {
     "data": {
      "text/plain": [
       "'49'"
      ]
     },
     "execution_count": 60,
     "metadata": {},
     "output_type": "execute_result"
    }
   ],
   "source": [
    "numero_ident(4, 7)"
   ]
  },
  {
   "cell_type": "code",
   "execution_count": 35,
   "metadata": {},
   "outputs": [
    {
     "name": "stdout",
     "output_type": "stream",
     "text": [
      "3 3 2\n"
     ]
    }
   ],
   "source": [
    "x = 2\n",
    "y = 2\n",
    "\n",
    "num_x = 0\n",
    "num_y = 0\n",
    "num_x  = x**2 - (x**2 - x)/2\n",
    "num_y = y**2 - (y**2 - y)/2 - (y-x)\n",
    "num_z = x**2 - (x**2 - x)/2 - (x-1)\n",
    "\n",
    "print(int(num_x), int(num_y), int(num_z))"
   ]
  }
 ],
 "metadata": {
  "kernelspec": {
   "display_name": "flask",
   "language": "python",
   "name": "python3"
  },
  "language_info": {
   "codemirror_mode": {
    "name": "ipython",
    "version": 3
   },
   "file_extension": ".py",
   "mimetype": "text/x-python",
   "name": "python",
   "nbconvert_exporter": "python",
   "pygments_lexer": "ipython3",
   "version": "3.11.2"
  },
  "orig_nbformat": 4
 },
 "nbformat": 4,
 "nbformat_minor": 2
}
