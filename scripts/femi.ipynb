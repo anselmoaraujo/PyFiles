{
 "cells": [
  {
   "cell_type": "code",
   "execution_count": 16,
   "metadata": {},
   "outputs": [],
   "source": [
    "# Importar as bibliotecas\n",
    "import pandas as pd\n",
    "import requests\n",
    "from bs4 import BeautifulSoup\n",
    "import yfinance as yf\n",
    "import plotly.express as px"
   ]
  },
  {
   "cell_type": "code",
   "execution_count": 2,
   "metadata": {},
   "outputs": [],
   "source": [
    "# URL da página da Wikipédia para os componentes do Ibovespa\n",
    "wiki_url = 'https://pt.wikipedia.org/wiki/Lista_de_companhias_citadas_no_Ibovespa'\n",
    "response = requests.get(wiki_url)\n",
    "soup = BeautifulSoup(response.content, 'html.parser')\n",
    "table = soup.find_all('table')[0]"
   ]
  },
  {
   "cell_type": "code",
   "execution_count": 4,
   "metadata": {},
   "outputs": [
    {
     "name": "stderr",
     "output_type": "stream",
     "text": [
      "C:\\Users\\aaraujo\\AppData\\Local\\Temp\\ipykernel_7512\\3111507930.py:2: FutureWarning: Passing literal html to 'read_html' is deprecated and will be removed in a future version. To read from a literal string, wrap it in a 'StringIO' object.\n",
      "  df = pd.read_html(str(table))[0]\n"
     ]
    }
   ],
   "source": [
    "# Ler a tabela com pandas\n",
    "df = pd.read_html(str(table))[0]\n"
   ]
  },
  {
   "cell_type": "code",
   "execution_count": 6,
   "metadata": {},
   "outputs": [],
   "source": [
    "# Selecionar apenas a coluna \"Código\"\n",
    "tickers_df = df[['Código']]"
   ]
  },
  {
   "cell_type": "code",
   "execution_count": 7,
   "metadata": {},
   "outputs": [],
   "source": [
    "# Extrair os tickers como uma lista\n",
    "tickers = tickers_df['Código'].tolist()\n",
    "tickers = [ticker + '.SA' for ticker in tickers] # Adiciona o sufixo .SA para tickers brasileiros"
   ]
  },
  {
   "cell_type": "code",
   "execution_count": 8,
   "metadata": {},
   "outputs": [
    {
     "name": "stdout",
     "output_type": "stream",
     "text": [
      "['ABEV3.SA', 'AZUL4.SA', 'B3SA3.SA', 'BBAS3.SA', 'BBDC3.SA', 'BBDC4.SA', 'BBSE3.SA', 'BEEF3.SA', 'BPAC11.SA', 'BRAP4.SA', 'BRFS3.SA', 'BRKM5.SA', 'BRSR6.SA', 'CCRO3.SA', 'CIEL3.SA', 'CMIG4.SA', 'COGN3.SA', 'CPFE3.SA', 'CRFB3.SA', 'CSAN3.SA', 'CSNA3.SA', 'CVCB3.SA', 'CYRE3.SA', 'ECOR3.SA', 'EGIE3.SA', 'ELET3.SA', 'ELET6.SA', 'EMBR3.SA', 'ENGI11.SA', 'EQTL3.SA', 'FLRY3.SA', 'GGBR4.SA', 'GOAU4.SA', 'GOLL4.SA', 'HAPV3.SA', 'HYPE3.SA', 'IRBR3.SA', 'ITSA4.SA', 'ITUB4.SA', 'JBSS3.SA', 'KLBN11.SA', 'LREN3.SA', 'MGLU3.SA', 'MRFG3.SA', 'MRVE3.SA', 'MULT3.SA', 'NTCO3.SA', 'PCAR3.SA', 'PETR3.SA', 'PETR4.SA', 'QUAL3.SA', 'RADL3.SA', 'RAIL3.SA', 'RENT3.SA', 'SANB11.SA', 'SBSP3.SA', 'SUZB3.SA', 'TAEE11.SA', 'TOTS3.SA', 'UGPA3.SA', 'USIM5.SA', 'VALE3.SA', 'WEGE3.SA', 'YDUQ3.SA']\n"
     ]
    }
   ],
   "source": [
    "print(tickers)"
   ]
  },
  {
   "cell_type": "code",
   "execution_count": 10,
   "metadata": {},
   "outputs": [
    {
     "name": "stderr",
     "output_type": "stream",
     "text": [
      "[*********************100%%**********************]  64 of 64 completed\n"
     ]
    }
   ],
   "source": [
    "# Buscar os dados de mercado para os tickers\n",
    "data = yf.download(tickers, period='1d', group_by='ticker')"
   ]
  },
  {
   "cell_type": "code",
   "execution_count": 11,
   "metadata": {},
   "outputs": [
    {
     "name": "stderr",
     "output_type": "stream",
     "text": [
      "C:\\Users\\aaraujo\\AppData\\Local\\Temp\\ipykernel_7512\\2902161821.py:11: FutureWarning: Series.__getitem__ treating keys as positions is deprecated. In a future version, integer keys will always be treated as labels (consistent with DataFrame behavior). To access a value by position, use `ser.iloc[pos]`\n",
      "  'Change': (data[ticker]['Close'][0] - data[ticker]['Open'][0]) / data[ticker]['Open'][0] * 100\n"
     ]
    }
   ],
   "source": [
    "# Preparar os dados\n",
    "stocks = []\n",
    "for ticker in tickers:\n",
    "  try:\n",
    "    info = yf.Ticker(ticker).info\n",
    "    stock = {\n",
    "    'Symbol': ticker,\n",
    "    'Name': info.get('shortName', ''),\n",
    "    'Sector': info.get('sector', ''),\n",
    "    'Market Cap': info.get('marketCap', 0),\n",
    "    'Change': (data[ticker]['Close'][0] - data[ticker]['Open'][0]) / data[ticker]['Open'][0] * 100\n",
    "    }\n",
    "    stocks.append(stock)\n",
    "  except Exception as e:\n",
    "    print(f\"Error fetching data for {ticker}: {e}\")"
   ]
  },
  {
   "cell_type": "code",
   "execution_count": 12,
   "metadata": {},
   "outputs": [],
   "source": [
    "df_stocks = pd.DataFrame(stocks)"
   ]
  },
  {
   "cell_type": "code",
   "execution_count": 13,
   "metadata": {},
   "outputs": [],
   "source": [
    "# Definir os intervalos e as cores correspondentes\n",
    "color_group = [-4, -2, -1, 0, 1, 2, 6]\n",
    "colors = ['red', 'indianred', 'gray', 'lightgreen', 'lime', 'green']"
   ]
  },
  {
   "cell_type": "code",
   "execution_count": 14,
   "metadata": {},
   "outputs": [],
   "source": [
    "# Categorizar os valores de 'Change' e atribuir cores\n",
    "df_stocks['Color'] = pd.cut(df_stocks['Change'], bins=color_group, labels=colors, include_lowest=True)"
   ]
  },
  {
   "cell_type": "code",
   "execution_count": 15,
   "metadata": {},
   "outputs": [
    {
     "name": "stdout",
     "output_type": "stream",
     "text": [
      "      Symbol    Change       Color\n",
      "0   ABEV3.SA -0.349040        gray\n",
      "1   AZUL4.SA  0.948505  lightgreen\n",
      "2   B3SA3.SA  0.586514  lightgreen\n",
      "3   BBAS3.SA -0.895863        gray\n",
      "4   BBDC3.SA -0.089608        gray\n",
      "..       ...       ...         ...\n",
      "59  UGPA3.SA  0.232231  lightgreen\n",
      "60  USIM5.SA -0.127385        gray\n",
      "61  VALE3.SA -0.797399        gray\n",
      "62  WEGE3.SA  0.047620  lightgreen\n",
      "63  YDUQ3.SA  1.127818        lime\n",
      "\n",
      "[64 rows x 3 columns]\n"
     ]
    }
   ],
   "source": [
    "# Garantir que a coluna Color esteja incluída no DataFrame\n",
    "print(df_stocks[['Symbol', 'Change', 'Color']])"
   ]
  },
  {
   "cell_type": "code",
   "execution_count": 17,
   "metadata": {},
   "outputs": [],
   "source": [
    "# Criar o treemap\n",
    "fig = px.treemap(\n",
    "df_stocks,\n",
    "path=['Sector', 'Symbol'],\n",
    "values='Market Cap',\n",
    "color='Color',\n",
    "hover_data=['Symbol', 'Change'],\n",
    "color_discrete_map={\n",
    "'red': 'red',\n",
    "'indianred': 'indianred',\n",
    "'gray': 'gray',\n",
    "'lightgreen': 'lightgreen',\n",
    "'lime': 'lime',\n",
    "'green': 'green'\n",
    "},\n",
    "title='Desempenho das Empresas do Ibovespa',\n",
    "template='plotly_dark'\n",
    ")"
   ]
  },
  {
   "cell_type": "code",
   "execution_count": 19,
   "metadata": {},
   "outputs": [],
   "source": [
    "# Adicionar a mudança percentual aos rótulos\n",
    "fig.data[0].texttemplate = \"%{label}<br>%{customdata[1]:.2f}%\""
   ]
  },
  {
   "cell_type": "code",
   "execution_count": 22,
   "metadata": {},
   "outputs": [
    {
     "ename": "ValueError",
     "evalue": "Mime type rendering requires nbformat>=4.2.0 but it is not installed",
     "output_type": "error",
     "traceback": [
      "\u001b[1;31m---------------------------------------------------------------------------\u001b[0m",
      "\u001b[1;31mValueError\u001b[0m                                Traceback (most recent call last)",
      "File \u001b[1;32mc:\\Users\\aaraujo\\OneDrive\\Documents\\GitHub\\PyFiles\\.venv\\Lib\\site-packages\\IPython\\core\\formatters.py:925\u001b[0m, in \u001b[0;36mIPythonDisplayFormatter.__call__\u001b[1;34m(self, obj)\u001b[0m\n\u001b[0;32m    923\u001b[0m method \u001b[38;5;241m=\u001b[39m get_real_method(obj, \u001b[38;5;28mself\u001b[39m\u001b[38;5;241m.\u001b[39mprint_method)\n\u001b[0;32m    924\u001b[0m \u001b[38;5;28;01mif\u001b[39;00m method \u001b[38;5;129;01mis\u001b[39;00m \u001b[38;5;129;01mnot\u001b[39;00m \u001b[38;5;28;01mNone\u001b[39;00m:\n\u001b[1;32m--> 925\u001b[0m     \u001b[43mmethod\u001b[49m\u001b[43m(\u001b[49m\u001b[43m)\u001b[49m\n\u001b[0;32m    926\u001b[0m     \u001b[38;5;28;01mreturn\u001b[39;00m \u001b[38;5;28;01mTrue\u001b[39;00m\n",
      "File \u001b[1;32mc:\\Users\\aaraujo\\OneDrive\\Documents\\GitHub\\PyFiles\\.venv\\Lib\\site-packages\\plotly\\basedatatypes.py:832\u001b[0m, in \u001b[0;36mBaseFigure._ipython_display_\u001b[1;34m(self)\u001b[0m\n\u001b[0;32m    829\u001b[0m \u001b[38;5;28;01mimport\u001b[39;00m \u001b[38;5;21;01mplotly\u001b[39;00m\u001b[38;5;21;01m.\u001b[39;00m\u001b[38;5;21;01mio\u001b[39;00m \u001b[38;5;28;01mas\u001b[39;00m \u001b[38;5;21;01mpio\u001b[39;00m\n\u001b[0;32m    831\u001b[0m \u001b[38;5;28;01mif\u001b[39;00m pio\u001b[38;5;241m.\u001b[39mrenderers\u001b[38;5;241m.\u001b[39mrender_on_display \u001b[38;5;129;01mand\u001b[39;00m pio\u001b[38;5;241m.\u001b[39mrenderers\u001b[38;5;241m.\u001b[39mdefault:\n\u001b[1;32m--> 832\u001b[0m     \u001b[43mpio\u001b[49m\u001b[38;5;241;43m.\u001b[39;49m\u001b[43mshow\u001b[49m\u001b[43m(\u001b[49m\u001b[38;5;28;43mself\u001b[39;49m\u001b[43m)\u001b[49m\n\u001b[0;32m    833\u001b[0m \u001b[38;5;28;01melse\u001b[39;00m:\n\u001b[0;32m    834\u001b[0m     \u001b[38;5;28mprint\u001b[39m(\u001b[38;5;28mrepr\u001b[39m(\u001b[38;5;28mself\u001b[39m))\n",
      "File \u001b[1;32mc:\\Users\\aaraujo\\OneDrive\\Documents\\GitHub\\PyFiles\\.venv\\Lib\\site-packages\\plotly\\io\\_renderers.py:394\u001b[0m, in \u001b[0;36mshow\u001b[1;34m(fig, renderer, validate, **kwargs)\u001b[0m\n\u001b[0;32m    389\u001b[0m         \u001b[38;5;28;01mraise\u001b[39;00m \u001b[38;5;167;01mValueError\u001b[39;00m(\n\u001b[0;32m    390\u001b[0m             \u001b[38;5;124m\"\u001b[39m\u001b[38;5;124mMime type rendering requires ipython but it is not installed\u001b[39m\u001b[38;5;124m\"\u001b[39m\n\u001b[0;32m    391\u001b[0m         )\n\u001b[0;32m    393\u001b[0m     \u001b[38;5;28;01mif\u001b[39;00m \u001b[38;5;129;01mnot\u001b[39;00m nbformat \u001b[38;5;129;01mor\u001b[39;00m Version(nbformat\u001b[38;5;241m.\u001b[39m__version__) \u001b[38;5;241m<\u001b[39m Version(\u001b[38;5;124m\"\u001b[39m\u001b[38;5;124m4.2.0\u001b[39m\u001b[38;5;124m\"\u001b[39m):\n\u001b[1;32m--> 394\u001b[0m         \u001b[38;5;28;01mraise\u001b[39;00m \u001b[38;5;167;01mValueError\u001b[39;00m(\n\u001b[0;32m    395\u001b[0m             \u001b[38;5;124m\"\u001b[39m\u001b[38;5;124mMime type rendering requires nbformat>=4.2.0 but it is not installed\u001b[39m\u001b[38;5;124m\"\u001b[39m\n\u001b[0;32m    396\u001b[0m         )\n\u001b[0;32m    398\u001b[0m     ipython_display\u001b[38;5;241m.\u001b[39mdisplay(bundle, raw\u001b[38;5;241m=\u001b[39m\u001b[38;5;28;01mTrue\u001b[39;00m)\n\u001b[0;32m    400\u001b[0m \u001b[38;5;66;03m# external renderers\u001b[39;00m\n",
      "\u001b[1;31mValueError\u001b[0m: Mime type rendering requires nbformat>=4.2.0 but it is not installed"
     ]
    },
    {
     "data": {
      "application/vnd.plotly.v1+json": {
       "config": {
        "plotlyServerURL": "https://plot.ly"
       },
       "data": [
        {
         "branchvalues": "total",
         "customdata": [
          [
           "ABEV3.SA",
           -0.3490398055835884,
           "gray"
          ],
          [
           "VALE3.SA",
           -0.7973989786543946,
           "gray"
          ],
          [
           "USIM5.SA",
           -0.12738537791289042,
           "gray"
          ],
          [
           "SANB11.SA",
           -0.39971151352408574,
           "gray"
          ],
          [
           "QUAL3.SA",
           -0.7042247017941755,
           "gray"
          ],
          [
           "PETR4.SA",
           -0.05331016785177211,
           "gray"
          ],
          [
           "MRVE3.SA",
           -0.2941173583166078,
           "gray"
          ],
          [
           "ITSA4.SA",
           -0.1014125309907893,
           "gray"
          ],
          [
           "IRBR3.SA",
           -0.4615431565504808,
           "gray"
          ],
          [
           "GOLL4.SA",
           0,
           "gray"
          ],
          [
           "GOAU4.SA",
           0,
           "gray"
          ],
          [
           "CVCB3.SA",
           0,
           "gray"
          ],
          [
           "CIEL3.SA",
           -0.17730057236524002,
           "gray"
          ],
          [
           "GGBR4.SA",
           -0.6586110669982926,
           "gray"
          ],
          [
           "BBDC4.SA",
           -0.24213628582888497,
           "gray"
          ],
          [
           "BBAS3.SA",
           -0.895862897592113,
           "gray"
          ],
          [
           "BBSE3.SA",
           -0.15142106713324116,
           "gray"
          ],
          [
           "BBDC3.SA",
           -0.08960778690471836,
           "gray"
          ],
          [
           "BRAP4.SA",
           -0.4385960784535167,
           "gray"
          ],
          [
           "BRFS3.SA",
           3.073284303801053,
           "green"
          ],
          [
           "JBSS3.SA",
           2.1943538055223066,
           "green"
          ],
          [
           "MRFG3.SA",
           2.3478300675101904,
           "green"
          ],
          [
           "ECOR3.SA",
           2.406012708534689,
           "green"
          ],
          [
           "NTCO3.SA",
           2.0261402750184767,
           "green"
          ],
          [
           "EQTL3.SA",
           -1.262542561846506,
           "indianred"
          ],
          [
           "LREN3.SA",
           0.9068397002427899,
           "lightgreen"
          ],
          [
           "BRSR6.SA",
           0.4448415636390109,
           "lightgreen"
          ],
          [
           "RADL3.SA",
           0.2281421103863186,
           "lightgreen"
          ],
          [
           "RAIL3.SA",
           0.7766982740254398,
           "lightgreen"
          ],
          [
           "TAEE11.SA",
           0.5924193509567987,
           "lightgreen"
          ],
          [
           "UGPA3.SA",
           0.23223054094726564,
           "lightgreen"
          ],
          [
           "B3SA3.SA",
           0.5865143919995018,
           "lightgreen"
          ],
          [
           "AZUL4.SA",
           0.9485053352132865,
           "lightgreen"
          ],
          [
           "PETR3.SA",
           0.32911662813983383,
           "lightgreen"
          ],
          [
           "BPAC11.SA",
           0.3719862145867835,
           "lightgreen"
          ],
          [
           "ITUB4.SA",
           0.12326938239406163,
           "lightgreen"
          ],
          [
           "HAPV3.SA",
           0.785339578901603,
           "lightgreen"
          ],
          [
           "COGN3.SA",
           0.5649712187014997,
           "lightgreen"
          ],
          [
           "CPFE3.SA",
           0.7687576767555554,
           "lightgreen"
          ],
          [
           "CRFB3.SA",
           0.7963560310353182,
           "lightgreen"
          ],
          [
           "CSAN3.SA",
           0.5965691619414392,
           "lightgreen"
          ],
          [
           "BRKM5.SA",
           0.16750802289840744,
           "lightgreen"
          ],
          [
           "CYRE3.SA",
           0.3133131443215541,
           "lightgreen"
          ],
          [
           "ELET3.SA",
           0.2865285666160882,
           "lightgreen"
          ],
          [
           "ELET6.SA",
           0.17843409543977878,
           "lightgreen"
          ],
          [
           "EGIE3.SA",
           0.022507057919793325,
           "lightgreen"
          ],
          [
           "EMBR3.SA",
           0.7101537467460441,
           "lightgreen"
          ],
          [
           "ENGI11.SA",
           0.6997773783970503,
           "lightgreen"
          ],
          [
           "WEGE3.SA",
           0.04762013753255208,
           "lightgreen"
          ],
          [
           "BEEF3.SA",
           1.7241325188735581,
           "lime"
          ],
          [
           "CCRO3.SA",
           1.1063839526886636,
           "lime"
          ],
          [
           "TOTS3.SA",
           1.726996147041817,
           "lime"
          ],
          [
           "SBSP3.SA",
           1.8157131198908647,
           "lime"
          ],
          [
           "MULT3.SA",
           1.274160831557066,
           "lime"
          ],
          [
           "KLBN11.SA",
           1.709404650905832,
           "lime"
          ],
          [
           "CSNA3.SA",
           1.7543880996655068,
           "lime"
          ],
          [
           "FLRY3.SA",
           1.2354173572132863,
           "lime"
          ],
          [
           "MGLU3.SA",
           1.919723091592429,
           "lime"
          ],
          [
           "HYPE3.SA",
           1.2140145070965873,
           "lime"
          ],
          [
           "PCAR3.SA",
           1.9011387886161029,
           "lime"
          ],
          [
           "RENT3.SA",
           1.0471171392566934,
           "lime"
          ],
          [
           "YDUQ3.SA",
           1.127818436908127,
           "lime"
          ],
          [
           "SUZB3.SA",
           -2.470805687430201,
           "red"
          ],
          [
           "CMIG4.SA",
           -2.1153780906155695,
           "red"
          ],
          [
           "(?)",
           "(?)",
           "(?)"
          ],
          [
           "(?)",
           "(?)",
           "(?)"
          ],
          [
           "(?)",
           "(?)",
           "(?)"
          ],
          [
           "(?)",
           "(?)",
           "(?)"
          ],
          [
           "(?)",
           "(?)",
           "(?)"
          ],
          [
           "(?)",
           "(?)",
           "(?)"
          ],
          [
           "(?)",
           "(?)",
           "(?)"
          ],
          [
           "(?)",
           "(?)",
           "(?)"
          ],
          [
           "(?)",
           "(?)",
           "(?)"
          ],
          [
           "(?)",
           "(?)",
           "(?)"
          ]
         ],
         "domain": {
          "x": [
           0,
           1
          ],
          "y": [
           0,
           1
          ]
         },
         "hovertemplate": "labels=%{label}<br>Market Cap=%{value}<br>parent=%{parent}<br>id=%{id}<br>Symbol=%{customdata[0]}<br>Change=%{customdata[1]}<br>Color=%{customdata[2]}<extra></extra>",
         "ids": [
          "Consumer Defensive/ABEV3.SA",
          "Basic Materials/VALE3.SA",
          "Basic Materials/USIM5.SA",
          "Financial Services/SANB11.SA",
          "Healthcare/QUAL3.SA",
          "Energy/PETR4.SA",
          "Real Estate/MRVE3.SA",
          "Industrials/ITSA4.SA",
          "Financial Services/IRBR3.SA",
          "Industrials/GOLL4.SA",
          "Basic Materials/GOAU4.SA",
          "Consumer Cyclical/CVCB3.SA",
          "Technology/CIEL3.SA",
          "Basic Materials/GGBR4.SA",
          "Financial Services/BBDC4.SA",
          "Financial Services/BBAS3.SA",
          "Financial Services/BBSE3.SA",
          "Financial Services/BBDC3.SA",
          "Financial Services/BRAP4.SA",
          "Consumer Defensive/BRFS3.SA",
          "Consumer Defensive/JBSS3.SA",
          "Consumer Defensive/MRFG3.SA",
          "Industrials/ECOR3.SA",
          "Consumer Defensive/NTCO3.SA",
          "Utilities/EQTL3.SA",
          "Consumer Cyclical/LREN3.SA",
          "Financial Services/BRSR6.SA",
          "Healthcare/RADL3.SA",
          "Industrials/RAIL3.SA",
          "Utilities/TAEE11.SA",
          "Energy/UGPA3.SA",
          "Financial Services/B3SA3.SA",
          "Industrials/AZUL4.SA",
          "Energy/PETR3.SA",
          "Financial Services/BPAC11.SA",
          "Financial Services/ITUB4.SA",
          "Financial Services/HAPV3.SA",
          "Consumer Defensive/COGN3.SA",
          "Utilities/CPFE3.SA",
          "Consumer Defensive/CRFB3.SA",
          "Energy/CSAN3.SA",
          "Basic Materials/BRKM5.SA",
          "Consumer Cyclical/CYRE3.SA",
          "Utilities/ELET3.SA",
          "Utilities/ELET6.SA",
          "Utilities/EGIE3.SA",
          "Industrials/EMBR3.SA",
          "Utilities/ENGI11.SA",
          "Industrials/WEGE3.SA",
          "Consumer Defensive/BEEF3.SA",
          "Industrials/CCRO3.SA",
          "Technology/TOTS3.SA",
          "Utilities/SBSP3.SA",
          "Real Estate/MULT3.SA",
          "Basic Materials/KLBN11.SA",
          "Basic Materials/CSNA3.SA",
          "Healthcare/FLRY3.SA",
          "Consumer Cyclical/MGLU3.SA",
          "Healthcare/HYPE3.SA",
          "Consumer Cyclical/PCAR3.SA",
          "Industrials/RENT3.SA",
          "Consumer Defensive/YDUQ3.SA",
          "Basic Materials/SUZB3.SA",
          "Utilities/CMIG4.SA",
          "Basic Materials",
          "Consumer Cyclical",
          "Consumer Defensive",
          "Energy",
          "Financial Services",
          "Healthcare",
          "Industrials",
          "Real Estate",
          "Technology",
          "Utilities"
         ],
         "labels": [
          "ABEV3.SA",
          "VALE3.SA",
          "USIM5.SA",
          "SANB11.SA",
          "QUAL3.SA",
          "PETR4.SA",
          "MRVE3.SA",
          "ITSA4.SA",
          "IRBR3.SA",
          "GOLL4.SA",
          "GOAU4.SA",
          "CVCB3.SA",
          "CIEL3.SA",
          "GGBR4.SA",
          "BBDC4.SA",
          "BBAS3.SA",
          "BBSE3.SA",
          "BBDC3.SA",
          "BRAP4.SA",
          "BRFS3.SA",
          "JBSS3.SA",
          "MRFG3.SA",
          "ECOR3.SA",
          "NTCO3.SA",
          "EQTL3.SA",
          "LREN3.SA",
          "BRSR6.SA",
          "RADL3.SA",
          "RAIL3.SA",
          "TAEE11.SA",
          "UGPA3.SA",
          "B3SA3.SA",
          "AZUL4.SA",
          "PETR3.SA",
          "BPAC11.SA",
          "ITUB4.SA",
          "HAPV3.SA",
          "COGN3.SA",
          "CPFE3.SA",
          "CRFB3.SA",
          "CSAN3.SA",
          "BRKM5.SA",
          "CYRE3.SA",
          "ELET3.SA",
          "ELET6.SA",
          "EGIE3.SA",
          "EMBR3.SA",
          "ENGI11.SA",
          "WEGE3.SA",
          "BEEF3.SA",
          "CCRO3.SA",
          "TOTS3.SA",
          "SBSP3.SA",
          "MULT3.SA",
          "KLBN11.SA",
          "CSNA3.SA",
          "FLRY3.SA",
          "MGLU3.SA",
          "HYPE3.SA",
          "PCAR3.SA",
          "RENT3.SA",
          "YDUQ3.SA",
          "SUZB3.SA",
          "CMIG4.SA",
          "Basic Materials",
          "Consumer Cyclical",
          "Consumer Defensive",
          "Energy",
          "Financial Services",
          "Healthcare",
          "Industrials",
          "Real Estate",
          "Technology",
          "Utilities"
         ],
         "marker": {
          "colors": [
           "gray",
           "gray",
           "gray",
           "gray",
           "gray",
           "gray",
           "gray",
           "gray",
           "gray",
           "gray",
           "gray",
           "gray",
           "gray",
           "gray",
           "gray",
           "gray",
           "gray",
           "gray",
           "gray",
           "green",
           "green",
           "green",
           "green",
           "green",
           "indianred",
           "lightgreen",
           "lightgreen",
           "lightgreen",
           "lightgreen",
           "lightgreen",
           "lightgreen",
           "lightgreen",
           "lightgreen",
           "lightgreen",
           "lightgreen",
           "lightgreen",
           "lightgreen",
           "lightgreen",
           "lightgreen",
           "lightgreen",
           "lightgreen",
           "lightgreen",
           "lightgreen",
           "lightgreen",
           "lightgreen",
           "lightgreen",
           "lightgreen",
           "lightgreen",
           "lightgreen",
           "lime",
           "lime",
           "lime",
           "lime",
           "lime",
           "lime",
           "lime",
           "lime",
           "lime",
           "lime",
           "lime",
           "lime",
           "lime",
           "red",
           "red",
           "#FF6692",
           "#FF6692",
           "#FF6692",
           "#FF6692",
           "#FF6692",
           "#FF6692",
           "#FF6692",
           "#FF6692",
           "#FF6692",
           "#FF6692"
          ]
         },
         "name": "",
         "parents": [
          "Consumer Defensive",
          "Basic Materials",
          "Basic Materials",
          "Financial Services",
          "Healthcare",
          "Energy",
          "Real Estate",
          "Industrials",
          "Financial Services",
          "Industrials",
          "Basic Materials",
          "Consumer Cyclical",
          "Technology",
          "Basic Materials",
          "Financial Services",
          "Financial Services",
          "Financial Services",
          "Financial Services",
          "Financial Services",
          "Consumer Defensive",
          "Consumer Defensive",
          "Consumer Defensive",
          "Industrials",
          "Consumer Defensive",
          "Utilities",
          "Consumer Cyclical",
          "Financial Services",
          "Healthcare",
          "Industrials",
          "Utilities",
          "Energy",
          "Financial Services",
          "Industrials",
          "Energy",
          "Financial Services",
          "Financial Services",
          "Financial Services",
          "Consumer Defensive",
          "Utilities",
          "Consumer Defensive",
          "Energy",
          "Basic Materials",
          "Consumer Cyclical",
          "Utilities",
          "Utilities",
          "Utilities",
          "Industrials",
          "Utilities",
          "Industrials",
          "Consumer Defensive",
          "Industrials",
          "Technology",
          "Utilities",
          "Real Estate",
          "Basic Materials",
          "Basic Materials",
          "Healthcare",
          "Consumer Cyclical",
          "Healthcare",
          "Consumer Cyclical",
          "Industrials",
          "Consumer Defensive",
          "Basic Materials",
          "Utilities",
          "",
          "",
          "",
          "",
          "",
          "",
          "",
          "",
          "",
          ""
         ],
         "textfont": {
          "color": "black",
          "size": 15
         },
         "textinfo": "label+text",
         "textposition": "middle center",
         "texttemplate": "%{label}<br>%{customdata[1]:.2f}%",
         "type": "treemap",
         "values": [
          179593199616,
          260582785024,
          9451400192,
          137432367104,
          396532160,
          498720014336,
          3827210240,
          101681553408,
          2650891264,
          3170247168,
          10902998016,
          998607680,
          15215750144,
          36564537344,
          124539879424,
          151431643136,
          64494034944,
          124740624384,
          7047506944,
          36133920768,
          72310710272,
          10589562880,
          4737179136,
          21613393920,
          36259926016,
          11722031104,
          4732433920,
          45227978752,
          38402678784,
          11692296192,
          23571107840,
          56347148288,
          2588360960,
          500583038976,
          140067635200,
          296075329536,
          28853399552,
          3338674688,
          37747707904,
          18679449600,
          25061744640,
          14331459584,
          7205981184,
          80002400256,
          79727919104,
          36251680768,
          28202561536,
          20438280192,
          176378413056,
          3814206720,
          23942027264,
          18265890816,
          51311095808,
          13323845632,
          132322746368,
          16947429376,
          8041996800,
          8587778048,
          18423996416,
          1308340096,
          45093793792,
          3148038656,
          73992044544,
          31212492800,
          555095400448,
          29822738112,
          349221157120,
          1047935905792,
          1138412893696,
          72090504128,
          424196815104,
          17151055872,
          33481640960,
          384643799040
         ]
        }
       ],
       "layout": {
        "font": {
         "size": 18
        },
        "legend": {
         "tracegroupgap": 0
        },
        "margin": {
         "b": 25,
         "l": 25,
         "r": 25,
         "t": 50
        },
        "template": {
         "data": {
          "bar": [
           {
            "error_x": {
             "color": "#f2f5fa"
            },
            "error_y": {
             "color": "#f2f5fa"
            },
            "marker": {
             "line": {
              "color": "rgb(17,17,17)",
              "width": 0.5
             },
             "pattern": {
              "fillmode": "overlay",
              "size": 10,
              "solidity": 0.2
             }
            },
            "type": "bar"
           }
          ],
          "barpolar": [
           {
            "marker": {
             "line": {
              "color": "rgb(17,17,17)",
              "width": 0.5
             },
             "pattern": {
              "fillmode": "overlay",
              "size": 10,
              "solidity": 0.2
             }
            },
            "type": "barpolar"
           }
          ],
          "carpet": [
           {
            "aaxis": {
             "endlinecolor": "#A2B1C6",
             "gridcolor": "#506784",
             "linecolor": "#506784",
             "minorgridcolor": "#506784",
             "startlinecolor": "#A2B1C6"
            },
            "baxis": {
             "endlinecolor": "#A2B1C6",
             "gridcolor": "#506784",
             "linecolor": "#506784",
             "minorgridcolor": "#506784",
             "startlinecolor": "#A2B1C6"
            },
            "type": "carpet"
           }
          ],
          "choropleth": [
           {
            "colorbar": {
             "outlinewidth": 0,
             "ticks": ""
            },
            "type": "choropleth"
           }
          ],
          "contour": [
           {
            "colorbar": {
             "outlinewidth": 0,
             "ticks": ""
            },
            "colorscale": [
             [
              0,
              "#0d0887"
             ],
             [
              0.1111111111111111,
              "#46039f"
             ],
             [
              0.2222222222222222,
              "#7201a8"
             ],
             [
              0.3333333333333333,
              "#9c179e"
             ],
             [
              0.4444444444444444,
              "#bd3786"
             ],
             [
              0.5555555555555556,
              "#d8576b"
             ],
             [
              0.6666666666666666,
              "#ed7953"
             ],
             [
              0.7777777777777778,
              "#fb9f3a"
             ],
             [
              0.8888888888888888,
              "#fdca26"
             ],
             [
              1,
              "#f0f921"
             ]
            ],
            "type": "contour"
           }
          ],
          "contourcarpet": [
           {
            "colorbar": {
             "outlinewidth": 0,
             "ticks": ""
            },
            "type": "contourcarpet"
           }
          ],
          "heatmap": [
           {
            "colorbar": {
             "outlinewidth": 0,
             "ticks": ""
            },
            "colorscale": [
             [
              0,
              "#0d0887"
             ],
             [
              0.1111111111111111,
              "#46039f"
             ],
             [
              0.2222222222222222,
              "#7201a8"
             ],
             [
              0.3333333333333333,
              "#9c179e"
             ],
             [
              0.4444444444444444,
              "#bd3786"
             ],
             [
              0.5555555555555556,
              "#d8576b"
             ],
             [
              0.6666666666666666,
              "#ed7953"
             ],
             [
              0.7777777777777778,
              "#fb9f3a"
             ],
             [
              0.8888888888888888,
              "#fdca26"
             ],
             [
              1,
              "#f0f921"
             ]
            ],
            "type": "heatmap"
           }
          ],
          "heatmapgl": [
           {
            "colorbar": {
             "outlinewidth": 0,
             "ticks": ""
            },
            "colorscale": [
             [
              0,
              "#0d0887"
             ],
             [
              0.1111111111111111,
              "#46039f"
             ],
             [
              0.2222222222222222,
              "#7201a8"
             ],
             [
              0.3333333333333333,
              "#9c179e"
             ],
             [
              0.4444444444444444,
              "#bd3786"
             ],
             [
              0.5555555555555556,
              "#d8576b"
             ],
             [
              0.6666666666666666,
              "#ed7953"
             ],
             [
              0.7777777777777778,
              "#fb9f3a"
             ],
             [
              0.8888888888888888,
              "#fdca26"
             ],
             [
              1,
              "#f0f921"
             ]
            ],
            "type": "heatmapgl"
           }
          ],
          "histogram": [
           {
            "marker": {
             "pattern": {
              "fillmode": "overlay",
              "size": 10,
              "solidity": 0.2
             }
            },
            "type": "histogram"
           }
          ],
          "histogram2d": [
           {
            "colorbar": {
             "outlinewidth": 0,
             "ticks": ""
            },
            "colorscale": [
             [
              0,
              "#0d0887"
             ],
             [
              0.1111111111111111,
              "#46039f"
             ],
             [
              0.2222222222222222,
              "#7201a8"
             ],
             [
              0.3333333333333333,
              "#9c179e"
             ],
             [
              0.4444444444444444,
              "#bd3786"
             ],
             [
              0.5555555555555556,
              "#d8576b"
             ],
             [
              0.6666666666666666,
              "#ed7953"
             ],
             [
              0.7777777777777778,
              "#fb9f3a"
             ],
             [
              0.8888888888888888,
              "#fdca26"
             ],
             [
              1,
              "#f0f921"
             ]
            ],
            "type": "histogram2d"
           }
          ],
          "histogram2dcontour": [
           {
            "colorbar": {
             "outlinewidth": 0,
             "ticks": ""
            },
            "colorscale": [
             [
              0,
              "#0d0887"
             ],
             [
              0.1111111111111111,
              "#46039f"
             ],
             [
              0.2222222222222222,
              "#7201a8"
             ],
             [
              0.3333333333333333,
              "#9c179e"
             ],
             [
              0.4444444444444444,
              "#bd3786"
             ],
             [
              0.5555555555555556,
              "#d8576b"
             ],
             [
              0.6666666666666666,
              "#ed7953"
             ],
             [
              0.7777777777777778,
              "#fb9f3a"
             ],
             [
              0.8888888888888888,
              "#fdca26"
             ],
             [
              1,
              "#f0f921"
             ]
            ],
            "type": "histogram2dcontour"
           }
          ],
          "mesh3d": [
           {
            "colorbar": {
             "outlinewidth": 0,
             "ticks": ""
            },
            "type": "mesh3d"
           }
          ],
          "parcoords": [
           {
            "line": {
             "colorbar": {
              "outlinewidth": 0,
              "ticks": ""
             }
            },
            "type": "parcoords"
           }
          ],
          "pie": [
           {
            "automargin": true,
            "type": "pie"
           }
          ],
          "scatter": [
           {
            "marker": {
             "line": {
              "color": "#283442"
             }
            },
            "type": "scatter"
           }
          ],
          "scatter3d": [
           {
            "line": {
             "colorbar": {
              "outlinewidth": 0,
              "ticks": ""
             }
            },
            "marker": {
             "colorbar": {
              "outlinewidth": 0,
              "ticks": ""
             }
            },
            "type": "scatter3d"
           }
          ],
          "scattercarpet": [
           {
            "marker": {
             "colorbar": {
              "outlinewidth": 0,
              "ticks": ""
             }
            },
            "type": "scattercarpet"
           }
          ],
          "scattergeo": [
           {
            "marker": {
             "colorbar": {
              "outlinewidth": 0,
              "ticks": ""
             }
            },
            "type": "scattergeo"
           }
          ],
          "scattergl": [
           {
            "marker": {
             "line": {
              "color": "#283442"
             }
            },
            "type": "scattergl"
           }
          ],
          "scattermapbox": [
           {
            "marker": {
             "colorbar": {
              "outlinewidth": 0,
              "ticks": ""
             }
            },
            "type": "scattermapbox"
           }
          ],
          "scatterpolar": [
           {
            "marker": {
             "colorbar": {
              "outlinewidth": 0,
              "ticks": ""
             }
            },
            "type": "scatterpolar"
           }
          ],
          "scatterpolargl": [
           {
            "marker": {
             "colorbar": {
              "outlinewidth": 0,
              "ticks": ""
             }
            },
            "type": "scatterpolargl"
           }
          ],
          "scatterternary": [
           {
            "marker": {
             "colorbar": {
              "outlinewidth": 0,
              "ticks": ""
             }
            },
            "type": "scatterternary"
           }
          ],
          "surface": [
           {
            "colorbar": {
             "outlinewidth": 0,
             "ticks": ""
            },
            "colorscale": [
             [
              0,
              "#0d0887"
             ],
             [
              0.1111111111111111,
              "#46039f"
             ],
             [
              0.2222222222222222,
              "#7201a8"
             ],
             [
              0.3333333333333333,
              "#9c179e"
             ],
             [
              0.4444444444444444,
              "#bd3786"
             ],
             [
              0.5555555555555556,
              "#d8576b"
             ],
             [
              0.6666666666666666,
              "#ed7953"
             ],
             [
              0.7777777777777778,
              "#fb9f3a"
             ],
             [
              0.8888888888888888,
              "#fdca26"
             ],
             [
              1,
              "#f0f921"
             ]
            ],
            "type": "surface"
           }
          ],
          "table": [
           {
            "cells": {
             "fill": {
              "color": "#506784"
             },
             "line": {
              "color": "rgb(17,17,17)"
             }
            },
            "header": {
             "fill": {
              "color": "#2a3f5f"
             },
             "line": {
              "color": "rgb(17,17,17)"
             }
            },
            "type": "table"
           }
          ]
         },
         "layout": {
          "annotationdefaults": {
           "arrowcolor": "#f2f5fa",
           "arrowhead": 0,
           "arrowwidth": 1
          },
          "autotypenumbers": "strict",
          "coloraxis": {
           "colorbar": {
            "outlinewidth": 0,
            "ticks": ""
           }
          },
          "colorscale": {
           "diverging": [
            [
             0,
             "#8e0152"
            ],
            [
             0.1,
             "#c51b7d"
            ],
            [
             0.2,
             "#de77ae"
            ],
            [
             0.3,
             "#f1b6da"
            ],
            [
             0.4,
             "#fde0ef"
            ],
            [
             0.5,
             "#f7f7f7"
            ],
            [
             0.6,
             "#e6f5d0"
            ],
            [
             0.7,
             "#b8e186"
            ],
            [
             0.8,
             "#7fbc41"
            ],
            [
             0.9,
             "#4d9221"
            ],
            [
             1,
             "#276419"
            ]
           ],
           "sequential": [
            [
             0,
             "#0d0887"
            ],
            [
             0.1111111111111111,
             "#46039f"
            ],
            [
             0.2222222222222222,
             "#7201a8"
            ],
            [
             0.3333333333333333,
             "#9c179e"
            ],
            [
             0.4444444444444444,
             "#bd3786"
            ],
            [
             0.5555555555555556,
             "#d8576b"
            ],
            [
             0.6666666666666666,
             "#ed7953"
            ],
            [
             0.7777777777777778,
             "#fb9f3a"
            ],
            [
             0.8888888888888888,
             "#fdca26"
            ],
            [
             1,
             "#f0f921"
            ]
           ],
           "sequentialminus": [
            [
             0,
             "#0d0887"
            ],
            [
             0.1111111111111111,
             "#46039f"
            ],
            [
             0.2222222222222222,
             "#7201a8"
            ],
            [
             0.3333333333333333,
             "#9c179e"
            ],
            [
             0.4444444444444444,
             "#bd3786"
            ],
            [
             0.5555555555555556,
             "#d8576b"
            ],
            [
             0.6666666666666666,
             "#ed7953"
            ],
            [
             0.7777777777777778,
             "#fb9f3a"
            ],
            [
             0.8888888888888888,
             "#fdca26"
            ],
            [
             1,
             "#f0f921"
            ]
           ]
          },
          "colorway": [
           "#636efa",
           "#EF553B",
           "#00cc96",
           "#ab63fa",
           "#FFA15A",
           "#19d3f3",
           "#FF6692",
           "#B6E880",
           "#FF97FF",
           "#FECB52"
          ],
          "font": {
           "color": "#f2f5fa"
          },
          "geo": {
           "bgcolor": "rgb(17,17,17)",
           "lakecolor": "rgb(17,17,17)",
           "landcolor": "rgb(17,17,17)",
           "showlakes": true,
           "showland": true,
           "subunitcolor": "#506784"
          },
          "hoverlabel": {
           "align": "left"
          },
          "hovermode": "closest",
          "mapbox": {
           "style": "dark"
          },
          "paper_bgcolor": "rgb(17,17,17)",
          "plot_bgcolor": "rgb(17,17,17)",
          "polar": {
           "angularaxis": {
            "gridcolor": "#506784",
            "linecolor": "#506784",
            "ticks": ""
           },
           "bgcolor": "rgb(17,17,17)",
           "radialaxis": {
            "gridcolor": "#506784",
            "linecolor": "#506784",
            "ticks": ""
           }
          },
          "scene": {
           "xaxis": {
            "backgroundcolor": "rgb(17,17,17)",
            "gridcolor": "#506784",
            "gridwidth": 2,
            "linecolor": "#506784",
            "showbackground": true,
            "ticks": "",
            "zerolinecolor": "#C8D4E3"
           },
           "yaxis": {
            "backgroundcolor": "rgb(17,17,17)",
            "gridcolor": "#506784",
            "gridwidth": 2,
            "linecolor": "#506784",
            "showbackground": true,
            "ticks": "",
            "zerolinecolor": "#C8D4E3"
           },
           "zaxis": {
            "backgroundcolor": "rgb(17,17,17)",
            "gridcolor": "#506784",
            "gridwidth": 2,
            "linecolor": "#506784",
            "showbackground": true,
            "ticks": "",
            "zerolinecolor": "#C8D4E3"
           }
          },
          "shapedefaults": {
           "line": {
            "color": "#f2f5fa"
           }
          },
          "sliderdefaults": {
           "bgcolor": "#C8D4E3",
           "bordercolor": "rgb(17,17,17)",
           "borderwidth": 1,
           "tickwidth": 0
          },
          "ternary": {
           "aaxis": {
            "gridcolor": "#506784",
            "linecolor": "#506784",
            "ticks": ""
           },
           "baxis": {
            "gridcolor": "#506784",
            "linecolor": "#506784",
            "ticks": ""
           },
           "bgcolor": "rgb(17,17,17)",
           "caxis": {
            "gridcolor": "#506784",
            "linecolor": "#506784",
            "ticks": ""
           }
          },
          "title": {
           "x": 0.05
          },
          "updatemenudefaults": {
           "bgcolor": "#506784",
           "borderwidth": 0
          },
          "xaxis": {
           "automargin": true,
           "gridcolor": "#283442",
           "linecolor": "#506784",
           "ticks": "",
           "title": {
            "standoff": 15
           },
           "zerolinecolor": "#283442",
           "zerolinewidth": 2
          },
          "yaxis": {
           "automargin": true,
           "gridcolor": "#283442",
           "linecolor": "#506784",
           "ticks": "",
           "title": {
            "standoff": 15
           },
           "zerolinecolor": "#283442",
           "zerolinewidth": 2
          }
         }
        },
        "title": {
         "text": "Desempenho das Empresas do Ibovespa"
        }
       }
      },
      "text/html": [
       "<div>                        <script type=\"text/javascript\">window.PlotlyConfig = {MathJaxConfig: 'local'};</script>\n",
       "        <script charset=\"utf-8\" src=\"https://cdn.plot.ly/plotly-2.32.0.min.js\"></script>                <div id=\"0a38b6b3-26b9-4b4f-b707-63df1ba256a3\" class=\"plotly-graph-div\" style=\"height:100%; width:100%;\"></div>            <script type=\"text/javascript\">                                    window.PLOTLYENV=window.PLOTLYENV || {};                                    if (document.getElementById(\"0a38b6b3-26b9-4b4f-b707-63df1ba256a3\")) {                    Plotly.newPlot(                        \"0a38b6b3-26b9-4b4f-b707-63df1ba256a3\",                        [{\"branchvalues\":\"total\",\"customdata\":[[\"ABEV3.SA\",-0.3490398055835884,\"gray\"],[\"VALE3.SA\",-0.7973989786543946,\"gray\"],[\"USIM5.SA\",-0.12738537791289042,\"gray\"],[\"SANB11.SA\",-0.39971151352408574,\"gray\"],[\"QUAL3.SA\",-0.7042247017941755,\"gray\"],[\"PETR4.SA\",-0.05331016785177211,\"gray\"],[\"MRVE3.SA\",-0.2941173583166078,\"gray\"],[\"ITSA4.SA\",-0.1014125309907893,\"gray\"],[\"IRBR3.SA\",-0.4615431565504808,\"gray\"],[\"GOLL4.SA\",0.0,\"gray\"],[\"GOAU4.SA\",0.0,\"gray\"],[\"CVCB3.SA\",0.0,\"gray\"],[\"CIEL3.SA\",-0.17730057236524002,\"gray\"],[\"GGBR4.SA\",-0.6586110669982926,\"gray\"],[\"BBDC4.SA\",-0.24213628582888497,\"gray\"],[\"BBAS3.SA\",-0.895862897592113,\"gray\"],[\"BBSE3.SA\",-0.15142106713324116,\"gray\"],[\"BBDC3.SA\",-0.08960778690471836,\"gray\"],[\"BRAP4.SA\",-0.4385960784535167,\"gray\"],[\"BRFS3.SA\",3.073284303801053,\"green\"],[\"JBSS3.SA\",2.1943538055223066,\"green\"],[\"MRFG3.SA\",2.3478300675101904,\"green\"],[\"ECOR3.SA\",2.406012708534689,\"green\"],[\"NTCO3.SA\",2.0261402750184767,\"green\"],[\"EQTL3.SA\",-1.262542561846506,\"indianred\"],[\"LREN3.SA\",0.9068397002427899,\"lightgreen\"],[\"BRSR6.SA\",0.4448415636390109,\"lightgreen\"],[\"RADL3.SA\",0.2281421103863186,\"lightgreen\"],[\"RAIL3.SA\",0.7766982740254398,\"lightgreen\"],[\"TAEE11.SA\",0.5924193509567987,\"lightgreen\"],[\"UGPA3.SA\",0.23223054094726564,\"lightgreen\"],[\"B3SA3.SA\",0.5865143919995018,\"lightgreen\"],[\"AZUL4.SA\",0.9485053352132865,\"lightgreen\"],[\"PETR3.SA\",0.32911662813983383,\"lightgreen\"],[\"BPAC11.SA\",0.3719862145867835,\"lightgreen\"],[\"ITUB4.SA\",0.12326938239406163,\"lightgreen\"],[\"HAPV3.SA\",0.785339578901603,\"lightgreen\"],[\"COGN3.SA\",0.5649712187014997,\"lightgreen\"],[\"CPFE3.SA\",0.7687576767555554,\"lightgreen\"],[\"CRFB3.SA\",0.7963560310353182,\"lightgreen\"],[\"CSAN3.SA\",0.5965691619414392,\"lightgreen\"],[\"BRKM5.SA\",0.16750802289840744,\"lightgreen\"],[\"CYRE3.SA\",0.3133131443215541,\"lightgreen\"],[\"ELET3.SA\",0.2865285666160882,\"lightgreen\"],[\"ELET6.SA\",0.17843409543977878,\"lightgreen\"],[\"EGIE3.SA\",0.022507057919793325,\"lightgreen\"],[\"EMBR3.SA\",0.7101537467460441,\"lightgreen\"],[\"ENGI11.SA\",0.6997773783970503,\"lightgreen\"],[\"WEGE3.SA\",0.04762013753255208,\"lightgreen\"],[\"BEEF3.SA\",1.7241325188735581,\"lime\"],[\"CCRO3.SA\",1.1063839526886636,\"lime\"],[\"TOTS3.SA\",1.726996147041817,\"lime\"],[\"SBSP3.SA\",1.8157131198908647,\"lime\"],[\"MULT3.SA\",1.274160831557066,\"lime\"],[\"KLBN11.SA\",1.709404650905832,\"lime\"],[\"CSNA3.SA\",1.7543880996655068,\"lime\"],[\"FLRY3.SA\",1.2354173572132863,\"lime\"],[\"MGLU3.SA\",1.919723091592429,\"lime\"],[\"HYPE3.SA\",1.2140145070965873,\"lime\"],[\"PCAR3.SA\",1.9011387886161029,\"lime\"],[\"RENT3.SA\",1.0471171392566934,\"lime\"],[\"YDUQ3.SA\",1.127818436908127,\"lime\"],[\"SUZB3.SA\",-2.470805687430201,\"red\"],[\"CMIG4.SA\",-2.1153780906155695,\"red\"],[\"(?)\",\"(?)\",\"(?)\"],[\"(?)\",\"(?)\",\"(?)\"],[\"(?)\",\"(?)\",\"(?)\"],[\"(?)\",\"(?)\",\"(?)\"],[\"(?)\",\"(?)\",\"(?)\"],[\"(?)\",\"(?)\",\"(?)\"],[\"(?)\",\"(?)\",\"(?)\"],[\"(?)\",\"(?)\",\"(?)\"],[\"(?)\",\"(?)\",\"(?)\"],[\"(?)\",\"(?)\",\"(?)\"]],\"domain\":{\"x\":[0.0,1.0],\"y\":[0.0,1.0]},\"hovertemplate\":\"labels=%{label}\\u003cbr\\u003eMarket Cap=%{value}\\u003cbr\\u003eparent=%{parent}\\u003cbr\\u003eid=%{id}\\u003cbr\\u003eSymbol=%{customdata[0]}\\u003cbr\\u003eChange=%{customdata[1]}\\u003cbr\\u003eColor=%{customdata[2]}\\u003cextra\\u003e\\u003c\\u002fextra\\u003e\",\"ids\":[\"Consumer Defensive\\u002fABEV3.SA\",\"Basic Materials\\u002fVALE3.SA\",\"Basic Materials\\u002fUSIM5.SA\",\"Financial Services\\u002fSANB11.SA\",\"Healthcare\\u002fQUAL3.SA\",\"Energy\\u002fPETR4.SA\",\"Real Estate\\u002fMRVE3.SA\",\"Industrials\\u002fITSA4.SA\",\"Financial Services\\u002fIRBR3.SA\",\"Industrials\\u002fGOLL4.SA\",\"Basic Materials\\u002fGOAU4.SA\",\"Consumer Cyclical\\u002fCVCB3.SA\",\"Technology\\u002fCIEL3.SA\",\"Basic Materials\\u002fGGBR4.SA\",\"Financial Services\\u002fBBDC4.SA\",\"Financial Services\\u002fBBAS3.SA\",\"Financial Services\\u002fBBSE3.SA\",\"Financial Services\\u002fBBDC3.SA\",\"Financial Services\\u002fBRAP4.SA\",\"Consumer Defensive\\u002fBRFS3.SA\",\"Consumer Defensive\\u002fJBSS3.SA\",\"Consumer Defensive\\u002fMRFG3.SA\",\"Industrials\\u002fECOR3.SA\",\"Consumer Defensive\\u002fNTCO3.SA\",\"Utilities\\u002fEQTL3.SA\",\"Consumer Cyclical\\u002fLREN3.SA\",\"Financial Services\\u002fBRSR6.SA\",\"Healthcare\\u002fRADL3.SA\",\"Industrials\\u002fRAIL3.SA\",\"Utilities\\u002fTAEE11.SA\",\"Energy\\u002fUGPA3.SA\",\"Financial Services\\u002fB3SA3.SA\",\"Industrials\\u002fAZUL4.SA\",\"Energy\\u002fPETR3.SA\",\"Financial Services\\u002fBPAC11.SA\",\"Financial Services\\u002fITUB4.SA\",\"Financial Services\\u002fHAPV3.SA\",\"Consumer Defensive\\u002fCOGN3.SA\",\"Utilities\\u002fCPFE3.SA\",\"Consumer Defensive\\u002fCRFB3.SA\",\"Energy\\u002fCSAN3.SA\",\"Basic Materials\\u002fBRKM5.SA\",\"Consumer Cyclical\\u002fCYRE3.SA\",\"Utilities\\u002fELET3.SA\",\"Utilities\\u002fELET6.SA\",\"Utilities\\u002fEGIE3.SA\",\"Industrials\\u002fEMBR3.SA\",\"Utilities\\u002fENGI11.SA\",\"Industrials\\u002fWEGE3.SA\",\"Consumer Defensive\\u002fBEEF3.SA\",\"Industrials\\u002fCCRO3.SA\",\"Technology\\u002fTOTS3.SA\",\"Utilities\\u002fSBSP3.SA\",\"Real Estate\\u002fMULT3.SA\",\"Basic Materials\\u002fKLBN11.SA\",\"Basic Materials\\u002fCSNA3.SA\",\"Healthcare\\u002fFLRY3.SA\",\"Consumer Cyclical\\u002fMGLU3.SA\",\"Healthcare\\u002fHYPE3.SA\",\"Consumer Cyclical\\u002fPCAR3.SA\",\"Industrials\\u002fRENT3.SA\",\"Consumer Defensive\\u002fYDUQ3.SA\",\"Basic Materials\\u002fSUZB3.SA\",\"Utilities\\u002fCMIG4.SA\",\"Basic Materials\",\"Consumer Cyclical\",\"Consumer Defensive\",\"Energy\",\"Financial Services\",\"Healthcare\",\"Industrials\",\"Real Estate\",\"Technology\",\"Utilities\"],\"labels\":[\"ABEV3.SA\",\"VALE3.SA\",\"USIM5.SA\",\"SANB11.SA\",\"QUAL3.SA\",\"PETR4.SA\",\"MRVE3.SA\",\"ITSA4.SA\",\"IRBR3.SA\",\"GOLL4.SA\",\"GOAU4.SA\",\"CVCB3.SA\",\"CIEL3.SA\",\"GGBR4.SA\",\"BBDC4.SA\",\"BBAS3.SA\",\"BBSE3.SA\",\"BBDC3.SA\",\"BRAP4.SA\",\"BRFS3.SA\",\"JBSS3.SA\",\"MRFG3.SA\",\"ECOR3.SA\",\"NTCO3.SA\",\"EQTL3.SA\",\"LREN3.SA\",\"BRSR6.SA\",\"RADL3.SA\",\"RAIL3.SA\",\"TAEE11.SA\",\"UGPA3.SA\",\"B3SA3.SA\",\"AZUL4.SA\",\"PETR3.SA\",\"BPAC11.SA\",\"ITUB4.SA\",\"HAPV3.SA\",\"COGN3.SA\",\"CPFE3.SA\",\"CRFB3.SA\",\"CSAN3.SA\",\"BRKM5.SA\",\"CYRE3.SA\",\"ELET3.SA\",\"ELET6.SA\",\"EGIE3.SA\",\"EMBR3.SA\",\"ENGI11.SA\",\"WEGE3.SA\",\"BEEF3.SA\",\"CCRO3.SA\",\"TOTS3.SA\",\"SBSP3.SA\",\"MULT3.SA\",\"KLBN11.SA\",\"CSNA3.SA\",\"FLRY3.SA\",\"MGLU3.SA\",\"HYPE3.SA\",\"PCAR3.SA\",\"RENT3.SA\",\"YDUQ3.SA\",\"SUZB3.SA\",\"CMIG4.SA\",\"Basic Materials\",\"Consumer Cyclical\",\"Consumer Defensive\",\"Energy\",\"Financial Services\",\"Healthcare\",\"Industrials\",\"Real Estate\",\"Technology\",\"Utilities\"],\"marker\":{\"colors\":[\"gray\",\"gray\",\"gray\",\"gray\",\"gray\",\"gray\",\"gray\",\"gray\",\"gray\",\"gray\",\"gray\",\"gray\",\"gray\",\"gray\",\"gray\",\"gray\",\"gray\",\"gray\",\"gray\",\"green\",\"green\",\"green\",\"green\",\"green\",\"indianred\",\"lightgreen\",\"lightgreen\",\"lightgreen\",\"lightgreen\",\"lightgreen\",\"lightgreen\",\"lightgreen\",\"lightgreen\",\"lightgreen\",\"lightgreen\",\"lightgreen\",\"lightgreen\",\"lightgreen\",\"lightgreen\",\"lightgreen\",\"lightgreen\",\"lightgreen\",\"lightgreen\",\"lightgreen\",\"lightgreen\",\"lightgreen\",\"lightgreen\",\"lightgreen\",\"lightgreen\",\"lime\",\"lime\",\"lime\",\"lime\",\"lime\",\"lime\",\"lime\",\"lime\",\"lime\",\"lime\",\"lime\",\"lime\",\"lime\",\"red\",\"red\",\"#FF6692\",\"#FF6692\",\"#FF6692\",\"#FF6692\",\"#FF6692\",\"#FF6692\",\"#FF6692\",\"#FF6692\",\"#FF6692\",\"#FF6692\"]},\"name\":\"\",\"parents\":[\"Consumer Defensive\",\"Basic Materials\",\"Basic Materials\",\"Financial Services\",\"Healthcare\",\"Energy\",\"Real Estate\",\"Industrials\",\"Financial Services\",\"Industrials\",\"Basic Materials\",\"Consumer Cyclical\",\"Technology\",\"Basic Materials\",\"Financial Services\",\"Financial Services\",\"Financial Services\",\"Financial Services\",\"Financial Services\",\"Consumer Defensive\",\"Consumer Defensive\",\"Consumer Defensive\",\"Industrials\",\"Consumer Defensive\",\"Utilities\",\"Consumer Cyclical\",\"Financial Services\",\"Healthcare\",\"Industrials\",\"Utilities\",\"Energy\",\"Financial Services\",\"Industrials\",\"Energy\",\"Financial Services\",\"Financial Services\",\"Financial Services\",\"Consumer Defensive\",\"Utilities\",\"Consumer Defensive\",\"Energy\",\"Basic Materials\",\"Consumer Cyclical\",\"Utilities\",\"Utilities\",\"Utilities\",\"Industrials\",\"Utilities\",\"Industrials\",\"Consumer Defensive\",\"Industrials\",\"Technology\",\"Utilities\",\"Real Estate\",\"Basic Materials\",\"Basic Materials\",\"Healthcare\",\"Consumer Cyclical\",\"Healthcare\",\"Consumer Cyclical\",\"Industrials\",\"Consumer Defensive\",\"Basic Materials\",\"Utilities\",\"\",\"\",\"\",\"\",\"\",\"\",\"\",\"\",\"\",\"\"],\"values\":[179593199616,260582785024,9451400192,137432367104,396532160,498720014336,3827210240,101681553408,2650891264,3170247168,10902998016,998607680,15215750144,36564537344,124539879424,151431643136,64494034944,124740624384,7047506944,36133920768,72310710272,10589562880,4737179136,21613393920,36259926016,11722031104,4732433920,45227978752,38402678784,11692296192,23571107840,56347148288,2588360960,500583038976,140067635200,296075329536,28853399552,3338674688,37747707904,18679449600,25061744640,14331459584,7205981184,80002400256,79727919104,36251680768,28202561536,20438280192,176378413056,3814206720,23942027264,18265890816,51311095808,13323845632,132322746368,16947429376,8041996800,8587778048,18423996416,1308340096,45093793792,3148038656,73992044544,31212492800,555095400448,29822738112,349221157120,1047935905792,1138412893696,72090504128,424196815104,17151055872,33481640960,384643799040],\"type\":\"treemap\",\"texttemplate\":\"%{label}\\u003cbr\\u003e%{customdata[1]:.2f}%\",\"textfont\":{\"color\":\"black\",\"size\":15},\"textinfo\":\"label+text\",\"textposition\":\"middle center\"}],                        {\"template\":{\"data\":{\"barpolar\":[{\"marker\":{\"line\":{\"color\":\"rgb(17,17,17)\",\"width\":0.5},\"pattern\":{\"fillmode\":\"overlay\",\"size\":10,\"solidity\":0.2}},\"type\":\"barpolar\"}],\"bar\":[{\"error_x\":{\"color\":\"#f2f5fa\"},\"error_y\":{\"color\":\"#f2f5fa\"},\"marker\":{\"line\":{\"color\":\"rgb(17,17,17)\",\"width\":0.5},\"pattern\":{\"fillmode\":\"overlay\",\"size\":10,\"solidity\":0.2}},\"type\":\"bar\"}],\"carpet\":[{\"aaxis\":{\"endlinecolor\":\"#A2B1C6\",\"gridcolor\":\"#506784\",\"linecolor\":\"#506784\",\"minorgridcolor\":\"#506784\",\"startlinecolor\":\"#A2B1C6\"},\"baxis\":{\"endlinecolor\":\"#A2B1C6\",\"gridcolor\":\"#506784\",\"linecolor\":\"#506784\",\"minorgridcolor\":\"#506784\",\"startlinecolor\":\"#A2B1C6\"},\"type\":\"carpet\"}],\"choropleth\":[{\"colorbar\":{\"outlinewidth\":0,\"ticks\":\"\"},\"type\":\"choropleth\"}],\"contourcarpet\":[{\"colorbar\":{\"outlinewidth\":0,\"ticks\":\"\"},\"type\":\"contourcarpet\"}],\"contour\":[{\"colorbar\":{\"outlinewidth\":0,\"ticks\":\"\"},\"colorscale\":[[0.0,\"#0d0887\"],[0.1111111111111111,\"#46039f\"],[0.2222222222222222,\"#7201a8\"],[0.3333333333333333,\"#9c179e\"],[0.4444444444444444,\"#bd3786\"],[0.5555555555555556,\"#d8576b\"],[0.6666666666666666,\"#ed7953\"],[0.7777777777777778,\"#fb9f3a\"],[0.8888888888888888,\"#fdca26\"],[1.0,\"#f0f921\"]],\"type\":\"contour\"}],\"heatmapgl\":[{\"colorbar\":{\"outlinewidth\":0,\"ticks\":\"\"},\"colorscale\":[[0.0,\"#0d0887\"],[0.1111111111111111,\"#46039f\"],[0.2222222222222222,\"#7201a8\"],[0.3333333333333333,\"#9c179e\"],[0.4444444444444444,\"#bd3786\"],[0.5555555555555556,\"#d8576b\"],[0.6666666666666666,\"#ed7953\"],[0.7777777777777778,\"#fb9f3a\"],[0.8888888888888888,\"#fdca26\"],[1.0,\"#f0f921\"]],\"type\":\"heatmapgl\"}],\"heatmap\":[{\"colorbar\":{\"outlinewidth\":0,\"ticks\":\"\"},\"colorscale\":[[0.0,\"#0d0887\"],[0.1111111111111111,\"#46039f\"],[0.2222222222222222,\"#7201a8\"],[0.3333333333333333,\"#9c179e\"],[0.4444444444444444,\"#bd3786\"],[0.5555555555555556,\"#d8576b\"],[0.6666666666666666,\"#ed7953\"],[0.7777777777777778,\"#fb9f3a\"],[0.8888888888888888,\"#fdca26\"],[1.0,\"#f0f921\"]],\"type\":\"heatmap\"}],\"histogram2dcontour\":[{\"colorbar\":{\"outlinewidth\":0,\"ticks\":\"\"},\"colorscale\":[[0.0,\"#0d0887\"],[0.1111111111111111,\"#46039f\"],[0.2222222222222222,\"#7201a8\"],[0.3333333333333333,\"#9c179e\"],[0.4444444444444444,\"#bd3786\"],[0.5555555555555556,\"#d8576b\"],[0.6666666666666666,\"#ed7953\"],[0.7777777777777778,\"#fb9f3a\"],[0.8888888888888888,\"#fdca26\"],[1.0,\"#f0f921\"]],\"type\":\"histogram2dcontour\"}],\"histogram2d\":[{\"colorbar\":{\"outlinewidth\":0,\"ticks\":\"\"},\"colorscale\":[[0.0,\"#0d0887\"],[0.1111111111111111,\"#46039f\"],[0.2222222222222222,\"#7201a8\"],[0.3333333333333333,\"#9c179e\"],[0.4444444444444444,\"#bd3786\"],[0.5555555555555556,\"#d8576b\"],[0.6666666666666666,\"#ed7953\"],[0.7777777777777778,\"#fb9f3a\"],[0.8888888888888888,\"#fdca26\"],[1.0,\"#f0f921\"]],\"type\":\"histogram2d\"}],\"histogram\":[{\"marker\":{\"pattern\":{\"fillmode\":\"overlay\",\"size\":10,\"solidity\":0.2}},\"type\":\"histogram\"}],\"mesh3d\":[{\"colorbar\":{\"outlinewidth\":0,\"ticks\":\"\"},\"type\":\"mesh3d\"}],\"parcoords\":[{\"line\":{\"colorbar\":{\"outlinewidth\":0,\"ticks\":\"\"}},\"type\":\"parcoords\"}],\"pie\":[{\"automargin\":true,\"type\":\"pie\"}],\"scatter3d\":[{\"line\":{\"colorbar\":{\"outlinewidth\":0,\"ticks\":\"\"}},\"marker\":{\"colorbar\":{\"outlinewidth\":0,\"ticks\":\"\"}},\"type\":\"scatter3d\"}],\"scattercarpet\":[{\"marker\":{\"colorbar\":{\"outlinewidth\":0,\"ticks\":\"\"}},\"type\":\"scattercarpet\"}],\"scattergeo\":[{\"marker\":{\"colorbar\":{\"outlinewidth\":0,\"ticks\":\"\"}},\"type\":\"scattergeo\"}],\"scattergl\":[{\"marker\":{\"line\":{\"color\":\"#283442\"}},\"type\":\"scattergl\"}],\"scattermapbox\":[{\"marker\":{\"colorbar\":{\"outlinewidth\":0,\"ticks\":\"\"}},\"type\":\"scattermapbox\"}],\"scatterpolargl\":[{\"marker\":{\"colorbar\":{\"outlinewidth\":0,\"ticks\":\"\"}},\"type\":\"scatterpolargl\"}],\"scatterpolar\":[{\"marker\":{\"colorbar\":{\"outlinewidth\":0,\"ticks\":\"\"}},\"type\":\"scatterpolar\"}],\"scatter\":[{\"marker\":{\"line\":{\"color\":\"#283442\"}},\"type\":\"scatter\"}],\"scatterternary\":[{\"marker\":{\"colorbar\":{\"outlinewidth\":0,\"ticks\":\"\"}},\"type\":\"scatterternary\"}],\"surface\":[{\"colorbar\":{\"outlinewidth\":0,\"ticks\":\"\"},\"colorscale\":[[0.0,\"#0d0887\"],[0.1111111111111111,\"#46039f\"],[0.2222222222222222,\"#7201a8\"],[0.3333333333333333,\"#9c179e\"],[0.4444444444444444,\"#bd3786\"],[0.5555555555555556,\"#d8576b\"],[0.6666666666666666,\"#ed7953\"],[0.7777777777777778,\"#fb9f3a\"],[0.8888888888888888,\"#fdca26\"],[1.0,\"#f0f921\"]],\"type\":\"surface\"}],\"table\":[{\"cells\":{\"fill\":{\"color\":\"#506784\"},\"line\":{\"color\":\"rgb(17,17,17)\"}},\"header\":{\"fill\":{\"color\":\"#2a3f5f\"},\"line\":{\"color\":\"rgb(17,17,17)\"}},\"type\":\"table\"}]},\"layout\":{\"annotationdefaults\":{\"arrowcolor\":\"#f2f5fa\",\"arrowhead\":0,\"arrowwidth\":1},\"autotypenumbers\":\"strict\",\"coloraxis\":{\"colorbar\":{\"outlinewidth\":0,\"ticks\":\"\"}},\"colorscale\":{\"diverging\":[[0,\"#8e0152\"],[0.1,\"#c51b7d\"],[0.2,\"#de77ae\"],[0.3,\"#f1b6da\"],[0.4,\"#fde0ef\"],[0.5,\"#f7f7f7\"],[0.6,\"#e6f5d0\"],[0.7,\"#b8e186\"],[0.8,\"#7fbc41\"],[0.9,\"#4d9221\"],[1,\"#276419\"]],\"sequential\":[[0.0,\"#0d0887\"],[0.1111111111111111,\"#46039f\"],[0.2222222222222222,\"#7201a8\"],[0.3333333333333333,\"#9c179e\"],[0.4444444444444444,\"#bd3786\"],[0.5555555555555556,\"#d8576b\"],[0.6666666666666666,\"#ed7953\"],[0.7777777777777778,\"#fb9f3a\"],[0.8888888888888888,\"#fdca26\"],[1.0,\"#f0f921\"]],\"sequentialminus\":[[0.0,\"#0d0887\"],[0.1111111111111111,\"#46039f\"],[0.2222222222222222,\"#7201a8\"],[0.3333333333333333,\"#9c179e\"],[0.4444444444444444,\"#bd3786\"],[0.5555555555555556,\"#d8576b\"],[0.6666666666666666,\"#ed7953\"],[0.7777777777777778,\"#fb9f3a\"],[0.8888888888888888,\"#fdca26\"],[1.0,\"#f0f921\"]]},\"colorway\":[\"#636efa\",\"#EF553B\",\"#00cc96\",\"#ab63fa\",\"#FFA15A\",\"#19d3f3\",\"#FF6692\",\"#B6E880\",\"#FF97FF\",\"#FECB52\"],\"font\":{\"color\":\"#f2f5fa\"},\"geo\":{\"bgcolor\":\"rgb(17,17,17)\",\"lakecolor\":\"rgb(17,17,17)\",\"landcolor\":\"rgb(17,17,17)\",\"showlakes\":true,\"showland\":true,\"subunitcolor\":\"#506784\"},\"hoverlabel\":{\"align\":\"left\"},\"hovermode\":\"closest\",\"mapbox\":{\"style\":\"dark\"},\"paper_bgcolor\":\"rgb(17,17,17)\",\"plot_bgcolor\":\"rgb(17,17,17)\",\"polar\":{\"angularaxis\":{\"gridcolor\":\"#506784\",\"linecolor\":\"#506784\",\"ticks\":\"\"},\"bgcolor\":\"rgb(17,17,17)\",\"radialaxis\":{\"gridcolor\":\"#506784\",\"linecolor\":\"#506784\",\"ticks\":\"\"}},\"scene\":{\"xaxis\":{\"backgroundcolor\":\"rgb(17,17,17)\",\"gridcolor\":\"#506784\",\"gridwidth\":2,\"linecolor\":\"#506784\",\"showbackground\":true,\"ticks\":\"\",\"zerolinecolor\":\"#C8D4E3\"},\"yaxis\":{\"backgroundcolor\":\"rgb(17,17,17)\",\"gridcolor\":\"#506784\",\"gridwidth\":2,\"linecolor\":\"#506784\",\"showbackground\":true,\"ticks\":\"\",\"zerolinecolor\":\"#C8D4E3\"},\"zaxis\":{\"backgroundcolor\":\"rgb(17,17,17)\",\"gridcolor\":\"#506784\",\"gridwidth\":2,\"linecolor\":\"#506784\",\"showbackground\":true,\"ticks\":\"\",\"zerolinecolor\":\"#C8D4E3\"}},\"shapedefaults\":{\"line\":{\"color\":\"#f2f5fa\"}},\"sliderdefaults\":{\"bgcolor\":\"#C8D4E3\",\"bordercolor\":\"rgb(17,17,17)\",\"borderwidth\":1,\"tickwidth\":0},\"ternary\":{\"aaxis\":{\"gridcolor\":\"#506784\",\"linecolor\":\"#506784\",\"ticks\":\"\"},\"baxis\":{\"gridcolor\":\"#506784\",\"linecolor\":\"#506784\",\"ticks\":\"\"},\"bgcolor\":\"rgb(17,17,17)\",\"caxis\":{\"gridcolor\":\"#506784\",\"linecolor\":\"#506784\",\"ticks\":\"\"}},\"title\":{\"x\":0.05},\"updatemenudefaults\":{\"bgcolor\":\"#506784\",\"borderwidth\":0},\"xaxis\":{\"automargin\":true,\"gridcolor\":\"#283442\",\"linecolor\":\"#506784\",\"ticks\":\"\",\"title\":{\"standoff\":15},\"zerolinecolor\":\"#283442\",\"zerolinewidth\":2},\"yaxis\":{\"automargin\":true,\"gridcolor\":\"#283442\",\"linecolor\":\"#506784\",\"ticks\":\"\",\"title\":{\"standoff\":15},\"zerolinecolor\":\"#283442\",\"zerolinewidth\":2}}},\"legend\":{\"tracegroupgap\":0},\"title\":{\"text\":\"Desempenho das Empresas do Ibovespa\"},\"margin\":{\"t\":50,\"l\":25,\"r\":25,\"b\":25},\"font\":{\"size\":18}},                        {\"responsive\": true}                    )                };                            </script>        </div>"
      ],
      "text/plain": [
       "Figure({\n",
       "    'data': [{'branchvalues': 'total',\n",
       "              'customdata': array([['ABEV3.SA', -0.3490398055835884, 'gray'],\n",
       "                                   ['VALE3.SA', -0.7973989786543946, 'gray'],\n",
       "                                   ['USIM5.SA', -0.12738537791289042, 'gray'],\n",
       "                                   ...,\n",
       "                                   ['(?)', '(?)', '(?)'],\n",
       "                                   ['(?)', '(?)', '(?)'],\n",
       "                                   ['(?)', '(?)', '(?)']], dtype=object),\n",
       "              'domain': {'x': [0.0, 1.0], 'y': [0.0, 1.0]},\n",
       "              'hovertemplate': ('labels=%{label}<br>Market Cap=' ... '{customdata[2]}<extra></extra>'),\n",
       "              'ids': array(['Consumer Defensive/ABEV3.SA', 'Basic Materials/VALE3.SA',\n",
       "                            'Basic Materials/USIM5.SA', 'Financial Services/SANB11.SA',\n",
       "                            'Healthcare/QUAL3.SA', 'Energy/PETR4.SA', 'Real Estate/MRVE3.SA',\n",
       "                            'Industrials/ITSA4.SA', 'Financial Services/IRBR3.SA',\n",
       "                            'Industrials/GOLL4.SA', 'Basic Materials/GOAU4.SA',\n",
       "                            'Consumer Cyclical/CVCB3.SA', 'Technology/CIEL3.SA',\n",
       "                            'Basic Materials/GGBR4.SA', 'Financial Services/BBDC4.SA',\n",
       "                            'Financial Services/BBAS3.SA', 'Financial Services/BBSE3.SA',\n",
       "                            'Financial Services/BBDC3.SA', 'Financial Services/BRAP4.SA',\n",
       "                            'Consumer Defensive/BRFS3.SA', 'Consumer Defensive/JBSS3.SA',\n",
       "                            'Consumer Defensive/MRFG3.SA', 'Industrials/ECOR3.SA',\n",
       "                            'Consumer Defensive/NTCO3.SA', 'Utilities/EQTL3.SA',\n",
       "                            'Consumer Cyclical/LREN3.SA', 'Financial Services/BRSR6.SA',\n",
       "                            'Healthcare/RADL3.SA', 'Industrials/RAIL3.SA', 'Utilities/TAEE11.SA',\n",
       "                            'Energy/UGPA3.SA', 'Financial Services/B3SA3.SA',\n",
       "                            'Industrials/AZUL4.SA', 'Energy/PETR3.SA',\n",
       "                            'Financial Services/BPAC11.SA', 'Financial Services/ITUB4.SA',\n",
       "                            'Financial Services/HAPV3.SA', 'Consumer Defensive/COGN3.SA',\n",
       "                            'Utilities/CPFE3.SA', 'Consumer Defensive/CRFB3.SA', 'Energy/CSAN3.SA',\n",
       "                            'Basic Materials/BRKM5.SA', 'Consumer Cyclical/CYRE3.SA',\n",
       "                            'Utilities/ELET3.SA', 'Utilities/ELET6.SA', 'Utilities/EGIE3.SA',\n",
       "                            'Industrials/EMBR3.SA', 'Utilities/ENGI11.SA', 'Industrials/WEGE3.SA',\n",
       "                            'Consumer Defensive/BEEF3.SA', 'Industrials/CCRO3.SA',\n",
       "                            'Technology/TOTS3.SA', 'Utilities/SBSP3.SA', 'Real Estate/MULT3.SA',\n",
       "                            'Basic Materials/KLBN11.SA', 'Basic Materials/CSNA3.SA',\n",
       "                            'Healthcare/FLRY3.SA', 'Consumer Cyclical/MGLU3.SA',\n",
       "                            'Healthcare/HYPE3.SA', 'Consumer Cyclical/PCAR3.SA',\n",
       "                            'Industrials/RENT3.SA', 'Consumer Defensive/YDUQ3.SA',\n",
       "                            'Basic Materials/SUZB3.SA', 'Utilities/CMIG4.SA', 'Basic Materials',\n",
       "                            'Consumer Cyclical', 'Consumer Defensive', 'Energy',\n",
       "                            'Financial Services', 'Healthcare', 'Industrials', 'Real Estate',\n",
       "                            'Technology', 'Utilities'], dtype=object),\n",
       "              'labels': array(['ABEV3.SA', 'VALE3.SA', 'USIM5.SA', 'SANB11.SA', 'QUAL3.SA', 'PETR4.SA',\n",
       "                               'MRVE3.SA', 'ITSA4.SA', 'IRBR3.SA', 'GOLL4.SA', 'GOAU4.SA', 'CVCB3.SA',\n",
       "                               'CIEL3.SA', 'GGBR4.SA', 'BBDC4.SA', 'BBAS3.SA', 'BBSE3.SA', 'BBDC3.SA',\n",
       "                               'BRAP4.SA', 'BRFS3.SA', 'JBSS3.SA', 'MRFG3.SA', 'ECOR3.SA', 'NTCO3.SA',\n",
       "                               'EQTL3.SA', 'LREN3.SA', 'BRSR6.SA', 'RADL3.SA', 'RAIL3.SA', 'TAEE11.SA',\n",
       "                               'UGPA3.SA', 'B3SA3.SA', 'AZUL4.SA', 'PETR3.SA', 'BPAC11.SA', 'ITUB4.SA',\n",
       "                               'HAPV3.SA', 'COGN3.SA', 'CPFE3.SA', 'CRFB3.SA', 'CSAN3.SA', 'BRKM5.SA',\n",
       "                               'CYRE3.SA', 'ELET3.SA', 'ELET6.SA', 'EGIE3.SA', 'EMBR3.SA', 'ENGI11.SA',\n",
       "                               'WEGE3.SA', 'BEEF3.SA', 'CCRO3.SA', 'TOTS3.SA', 'SBSP3.SA', 'MULT3.SA',\n",
       "                               'KLBN11.SA', 'CSNA3.SA', 'FLRY3.SA', 'MGLU3.SA', 'HYPE3.SA', 'PCAR3.SA',\n",
       "                               'RENT3.SA', 'YDUQ3.SA', 'SUZB3.SA', 'CMIG4.SA', 'Basic Materials',\n",
       "                               'Consumer Cyclical', 'Consumer Defensive', 'Energy',\n",
       "                               'Financial Services', 'Healthcare', 'Industrials', 'Real Estate',\n",
       "                               'Technology', 'Utilities'], dtype=object),\n",
       "              'marker': {'colors': [gray, gray, gray, gray, gray, gray, gray,\n",
       "                                    gray, gray, gray, gray, gray, gray, gray, gray,\n",
       "                                    gray, gray, gray, gray, green, green, green,\n",
       "                                    green, green, indianred, lightgreen,\n",
       "                                    lightgreen, lightgreen, lightgreen, lightgreen,\n",
       "                                    lightgreen, lightgreen, lightgreen, lightgreen,\n",
       "                                    lightgreen, lightgreen, lightgreen, lightgreen,\n",
       "                                    lightgreen, lightgreen, lightgreen, lightgreen,\n",
       "                                    lightgreen, lightgreen, lightgreen, lightgreen,\n",
       "                                    lightgreen, lightgreen, lightgreen, lime, lime,\n",
       "                                    lime, lime, lime, lime, lime, lime, lime, lime,\n",
       "                                    lime, lime, lime, red, red, #FF6692, #FF6692,\n",
       "                                    #FF6692, #FF6692, #FF6692, #FF6692, #FF6692,\n",
       "                                    #FF6692, #FF6692, #FF6692]},\n",
       "              'name': '',\n",
       "              'parents': array(['Consumer Defensive', 'Basic Materials', 'Basic Materials',\n",
       "                                'Financial Services', 'Healthcare', 'Energy', 'Real Estate',\n",
       "                                'Industrials', 'Financial Services', 'Industrials', 'Basic Materials',\n",
       "                                'Consumer Cyclical', 'Technology', 'Basic Materials',\n",
       "                                'Financial Services', 'Financial Services', 'Financial Services',\n",
       "                                'Financial Services', 'Financial Services', 'Consumer Defensive',\n",
       "                                'Consumer Defensive', 'Consumer Defensive', 'Industrials',\n",
       "                                'Consumer Defensive', 'Utilities', 'Consumer Cyclical',\n",
       "                                'Financial Services', 'Healthcare', 'Industrials', 'Utilities',\n",
       "                                'Energy', 'Financial Services', 'Industrials', 'Energy',\n",
       "                                'Financial Services', 'Financial Services', 'Financial Services',\n",
       "                                'Consumer Defensive', 'Utilities', 'Consumer Defensive', 'Energy',\n",
       "                                'Basic Materials', 'Consumer Cyclical', 'Utilities', 'Utilities',\n",
       "                                'Utilities', 'Industrials', 'Utilities', 'Industrials',\n",
       "                                'Consumer Defensive', 'Industrials', 'Technology', 'Utilities',\n",
       "                                'Real Estate', 'Basic Materials', 'Basic Materials', 'Healthcare',\n",
       "                                'Consumer Cyclical', 'Healthcare', 'Consumer Cyclical', 'Industrials',\n",
       "                                'Consumer Defensive', 'Basic Materials', 'Utilities', '', '', '', '',\n",
       "                                '', '', '', '', '', ''], dtype=object),\n",
       "              'textfont': {'color': 'black', 'size': 15},\n",
       "              'textinfo': 'label+text',\n",
       "              'textposition': 'middle center',\n",
       "              'texttemplate': '%{label}<br>%{customdata[1]:.2f}%',\n",
       "              'type': 'treemap',\n",
       "              'values': array([ 179593199616,  260582785024,    9451400192,  137432367104,\n",
       "                                   396532160,  498720014336,    3827210240,  101681553408,\n",
       "                                  2650891264,    3170247168,   10902998016,     998607680,\n",
       "                                 15215750144,   36564537344,  124539879424,  151431643136,\n",
       "                                 64494034944,  124740624384,    7047506944,   36133920768,\n",
       "                                 72310710272,   10589562880,    4737179136,   21613393920,\n",
       "                                 36259926016,   11722031104,    4732433920,   45227978752,\n",
       "                                 38402678784,   11692296192,   23571107840,   56347148288,\n",
       "                                  2588360960,  500583038976,  140067635200,  296075329536,\n",
       "                                 28853399552,    3338674688,   37747707904,   18679449600,\n",
       "                                 25061744640,   14331459584,    7205981184,   80002400256,\n",
       "                                 79727919104,   36251680768,   28202561536,   20438280192,\n",
       "                                176378413056,    3814206720,   23942027264,   18265890816,\n",
       "                                 51311095808,   13323845632,  132322746368,   16947429376,\n",
       "                                  8041996800,    8587778048,   18423996416,    1308340096,\n",
       "                                 45093793792,    3148038656,   73992044544,   31212492800,\n",
       "                                555095400448,   29822738112,  349221157120, 1047935905792,\n",
       "                               1138412893696,   72090504128,  424196815104,   17151055872,\n",
       "                                 33481640960,  384643799040])}],\n",
       "    'layout': {'font': {'size': 18},\n",
       "               'legend': {'tracegroupgap': 0},\n",
       "               'margin': {'b': 25, 'l': 25, 'r': 25, 't': 50},\n",
       "               'template': '...',\n",
       "               'title': {'text': 'Desempenho das Empresas do Ibovespa'}}\n",
       "})"
      ]
     },
     "execution_count": 22,
     "metadata": {},
     "output_type": "execute_result"
    }
   ],
   "source": [
    "# Atualizar o layout para melhor aparência\n",
    "fig.update_traces(\n",
    "textinfo=\"label+text\",\n",
    "textfont_size=15,\n",
    "textfont=dict(color='black'),\n",
    "textposition=\"middle center\"\n",
    ")\n",
    "\n",
    "fig.update_layout(\n",
    "margin=dict(t=50, l=25, r=25, b=25),\n",
    "font=dict(size=18)\n",
    ")\n"
   ]
  },
  {
   "cell_type": "code",
   "execution_count": 1,
   "metadata": {},
   "outputs": [],
   "source": [
    "import time"
   ]
  },
  {
   "cell_type": "code",
   "execution_count": 2,
   "metadata": {},
   "outputs": [
    {
     "data": {
      "text/plain": [
       "1719859600.7652323"
      ]
     },
     "execution_count": 2,
     "metadata": {},
     "output_type": "execute_result"
    }
   ],
   "source": [
    "time.time()"
   ]
  },
  {
   "cell_type": "code",
   "execution_count": 3,
   "metadata": {},
   "outputs": [],
   "source": [
    "from datetime import datetime"
   ]
  },
  {
   "cell_type": "code",
   "execution_count": 9,
   "metadata": {},
   "outputs": [
    {
     "data": {
      "text/plain": [
       "datetime.datetime(2023, 12, 31, 21, 0, 20, 94900)"
      ]
     },
     "execution_count": 9,
     "metadata": {},
     "output_type": "execute_result"
    }
   ],
   "source": [
    "datetime.fromtimestamp(1704067220.0949)"
   ]
  }
 ],
 "metadata": {
  "kernelspec": {
   "display_name": ".venv",
   "language": "python",
   "name": "python3"
  },
  "language_info": {
   "codemirror_mode": {
    "name": "ipython",
    "version": 3
   },
   "file_extension": ".py",
   "mimetype": "text/x-python",
   "name": "python",
   "nbconvert_exporter": "python",
   "pygments_lexer": "ipython3",
   "version": "3.12.0"
  }
 },
 "nbformat": 4,
 "nbformat_minor": 2
}
