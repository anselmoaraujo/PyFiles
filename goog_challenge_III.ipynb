{
 "cells": [
  {
   "cell_type": "code",
   "execution_count": 35,
   "metadata": {},
   "outputs": [],
   "source": [
    "def answer(pegs):\n",
    "# no need to check ratios that are too large to fit on the first peg.\n",
    "    maximum = pegs[1] - pegs[0] - 1\n",
    "    for x in range(1, maximum):\n",
    "        # calculate our gear sizes given the first size is x\n",
    "        gear_sizes = [x]\n",
    "        for peg in range(1, len(pegs)):\n",
    "            gear_sizes.append(pegs[peg] - (pegs[peg-1] + gear_sizes[-1]))\n",
    "\n",
    "        # if any of the gear_sizes are zero or negative, this can't be a potential because obviously\n",
    "        # we can't have a non-existent gear. This isn't our answer, so skip this and try the next\n",
    "        # one.\n",
    "        if any(d <= 0 for d in gear_sizes):\n",
    "            continue\n",
    "\n",
    "        # see if we got an exact 2/1 match\n",
    "        if x == 2 * gear_sizes[-1]:\n",
    "            return [x, 1]\n",
    "\n",
    "        # test if we have a ratio that works with 3 as the denominator\n",
    "        if x+1 == 2 * gear_sizes[-1]:\n",
    "            return [(x * 3) + 1, 3]\n",
    "        if x+2 == 2 * gear_sizes[-1]:\n",
    "            return [(x * 3) + 2, 3]\n",
    "\n",
    "    return [-1, -1]"
   ]
  },
  {
   "cell_type": "code",
   "execution_count": 36,
   "metadata": {},
   "outputs": [
    {
     "data": {
      "text/plain": [
       "[24, 1]"
      ]
     },
     "execution_count": 36,
     "metadata": {},
     "output_type": "execute_result"
    }
   ],
   "source": [
    "answer([4, 30, 50, 80])"
   ]
  }
 ],
 "metadata": {
  "kernelspec": {
   "display_name": "flask",
   "language": "python",
   "name": "python3"
  },
  "language_info": {
   "codemirror_mode": {
    "name": "ipython",
    "version": 3
   },
   "file_extension": ".py",
   "mimetype": "text/x-python",
   "name": "python",
   "nbconvert_exporter": "python",
   "pygments_lexer": "ipython3",
   "version": "3.11.2"
  },
  "orig_nbformat": 4
 },
 "nbformat": 4,
 "nbformat_minor": 2
}
